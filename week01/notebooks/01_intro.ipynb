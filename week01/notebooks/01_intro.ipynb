{
 "cells": [
  {
   "metadata": {
    "ExecuteTime": {
     "end_time": "2024-04-28T20:59:26.656191Z",
     "start_time": "2024-04-28T20:59:26.651947Z"
    }
   },
   "cell_type": "code",
   "source": "import os",
   "id": "873c197971d0d28f",
   "outputs": [],
   "execution_count": 15
  },
  {
   "metadata": {},
   "cell_type": "markdown",
   "source": "We get the number of books in our data directory",
   "id": "eb726e676aac9c03"
  },
  {
   "metadata": {
    "ExecuteTime": {
     "end_time": "2024-04-28T20:59:26.674060Z",
     "start_time": "2024-04-28T20:59:26.666283Z"
    }
   },
   "cell_type": "code",
   "source": [
    "DIR = \"../data\"\n",
    "total_books = len([name for name in os.listdir(DIR) if os.path.isfile(os.path.join(DIR, name))])\n",
    "print(total_books)"
   ],
   "id": "53a66fb76d3d4648",
   "outputs": [
    {
     "name": "stdout",
     "output_type": "stream",
     "text": [
      "100\n"
     ]
    }
   ],
   "execution_count": 16
  },
  {
   "metadata": {},
   "cell_type": "markdown",
   "source": "We then create an input field for the user to enter the word to search for",
   "id": "9f38a0c40a5c2307"
  },
  {
   "metadata": {
    "ExecuteTime": {
     "end_time": "2024-04-28T20:59:29.200968Z",
     "start_time": "2024-04-28T20:59:26.676313Z"
    }
   },
   "cell_type": "code",
   "source": [
    "word_input = input(\"Enter the word to search for (case sensitive):\")\n",
    "print(word_input)"
   ],
   "id": "724a8bacfb54721a",
   "outputs": [
    {
     "name": "stdout",
     "output_type": "stream",
     "text": [
      "Title\n"
     ]
    }
   ],
   "execution_count": 17
  },
  {
   "metadata": {},
   "cell_type": "markdown",
   "source": "We initialize an array to save the books on which the word is found",
   "id": "e0a3324315954b7c"
  },
  {
   "metadata": {
    "ExecuteTime": {
     "end_time": "2024-04-28T20:59:29.206513Z",
     "start_time": "2024-04-28T20:59:29.202946Z"
    }
   },
   "cell_type": "code",
   "source": "books_with_word = []",
   "id": "5e6246988115d601",
   "outputs": [],
   "execution_count": 18
  },
  {
   "metadata": {},
   "cell_type": "markdown",
   "source": "Helper function to read the content of the books",
   "id": "4a54d902bce5ac01"
  },
  {
   "metadata": {
    "ExecuteTime": {
     "end_time": "2024-04-28T20:59:29.212412Z",
     "start_time": "2024-04-28T20:59:29.208969Z"
    }
   },
   "cell_type": "code",
   "source": [
    "def get_book_content(book_path: str) -> str:\n",
    "    with open(f\"{DIR}/{book_path}\") as file:\n",
    "        book_content = file.read()\n",
    "        return book_content"
   ],
   "id": "6092cd0b6c1a93be",
   "outputs": [],
   "execution_count": 19
  },
  {
   "metadata": {},
   "cell_type": "markdown",
   "source": [
    "We iterate over the total of books and search for the word in the content of each book.\n",
    "\n",
    "If the word is found we append the filename of the book to the books_with_word array"
   ],
   "id": "3ab46100ac42ac9b"
  },
  {
   "metadata": {
    "ExecuteTime": {
     "end_time": "2024-04-28T20:59:29.445104Z",
     "start_time": "2024-04-28T20:59:29.213374Z"
    }
   },
   "cell_type": "code",
   "source": [
    "for i in range(1, total_books + 1):\n",
    "    book_path = f\"{DIR}/book{i}.txt\"\n",
    "    book_content = get_book_content(book_path)\n",
    "    if word_input in book_content:\n",
    "        books_with_word.append(f\"book{i}.txt\")"
   ],
   "id": "fb3ce6f4d9668be5",
   "outputs": [],
   "execution_count": 20
  },
  {
   "metadata": {},
   "cell_type": "markdown",
   "source": "We print the results",
   "id": "fd456e7412927aae"
  },
  {
   "metadata": {
    "ExecuteTime": {
     "end_time": "2024-04-28T20:59:29.448691Z",
     "start_time": "2024-04-28T20:59:29.446029Z"
    }
   },
   "cell_type": "code",
   "source": [
    "if len(books_with_word) == 0:\n",
    "    print(\"There are no books that contain the word: \" + word_input)\n",
    "else:\n",
    "    print(\"The books that contain the word \" + word_input + \" are:\")\n",
    "    print(books_with_word)"
   ],
   "id": "e66ce80465a26e51",
   "outputs": [
    {
     "name": "stdout",
     "output_type": "stream",
     "text": [
      "The books that contain the word Title are:\n",
      "['book1.txt', 'book2.txt', 'book3.txt', 'book4.txt', 'book5.txt', 'book6.txt', 'book7.txt', 'book8.txt', 'book9.txt', 'book10.txt', 'book11.txt', 'book12.txt', 'book13.txt', 'book14.txt', 'book15.txt', 'book16.txt', 'book17.txt', 'book18.txt', 'book19.txt', 'book20.txt', 'book21.txt', 'book22.txt', 'book23.txt', 'book24.txt', 'book25.txt', 'book26.txt', 'book27.txt', 'book28.txt', 'book29.txt', 'book30.txt', 'book31.txt', 'book32.txt', 'book33.txt', 'book34.txt', 'book35.txt', 'book36.txt', 'book37.txt', 'book38.txt', 'book39.txt', 'book40.txt', 'book41.txt', 'book42.txt', 'book43.txt', 'book44.txt', 'book45.txt', 'book46.txt', 'book47.txt', 'book48.txt', 'book49.txt', 'book50.txt', 'book51.txt', 'book52.txt', 'book53.txt', 'book54.txt', 'book55.txt', 'book56.txt', 'book57.txt', 'book58.txt', 'book59.txt', 'book60.txt', 'book61.txt', 'book62.txt', 'book63.txt', 'book64.txt', 'book65.txt', 'book66.txt', 'book67.txt', 'book68.txt', 'book69.txt', 'book70.txt', 'book71.txt', 'book72.txt', 'book73.txt', 'book74.txt', 'book75.txt', 'book76.txt', 'book77.txt', 'book78.txt', 'book79.txt', 'book80.txt', 'book81.txt', 'book82.txt', 'book83.txt', 'book84.txt', 'book85.txt', 'book86.txt', 'book87.txt', 'book88.txt', 'book89.txt', 'book90.txt', 'book91.txt', 'book92.txt', 'book93.txt', 'book94.txt', 'book95.txt', 'book96.txt', 'book97.txt', 'book98.txt', 'book99.txt', 'book100.txt']\n"
     ]
    }
   ],
   "execution_count": 21
  }
 ],
 "metadata": {
  "kernelspec": {
   "display_name": "Python 3",
   "language": "python",
   "name": "python3"
  },
  "language_info": {
   "codemirror_mode": {
    "name": "ipython",
    "version": 2
   },
   "file_extension": ".py",
   "mimetype": "text/x-python",
   "name": "python",
   "nbconvert_exporter": "python",
   "pygments_lexer": "ipython2",
   "version": "3.12.2"
  }
 },
 "nbformat": 4,
 "nbformat_minor": 5
}

{
 "cells": [
  {
   "metadata": {
    "ExecuteTime": {
     "end_time": "2024-04-28T08:15:45.983952Z",
     "start_time": "2024-04-28T08:15:45.978651Z"
    }
   },
   "cell_type": "code",
   "source": "import os",
   "id": "873c197971d0d28f",
   "outputs": [],
   "execution_count": 8
  },
  {
   "metadata": {},
   "cell_type": "markdown",
   "source": "We get the number of books in our data directory",
   "id": "eb726e676aac9c03"
  },
  {
   "metadata": {
    "ExecuteTime": {
     "end_time": "2024-04-28T08:15:46.027418Z",
     "start_time": "2024-04-28T08:15:46.021573Z"
    }
   },
   "cell_type": "code",
   "source": [
    "DIR = \"../data\"\n",
    "total_books = len([name for name in os.listdir(DIR) if os.path.isfile(os.path.join(DIR, name))])\n",
    "print(total_books)"
   ],
   "id": "53a66fb76d3d4648",
   "outputs": [
    {
     "name": "stdout",
     "output_type": "stream",
     "text": [
      "100\n"
     ]
    }
   ],
   "execution_count": 9
  },
  {
   "metadata": {},
   "cell_type": "markdown",
   "source": "We then create an input field for the user to enter the word to search for",
   "id": "9f38a0c40a5c2307"
  },
  {
   "metadata": {
    "ExecuteTime": {
     "end_time": "2024-04-28T08:15:49.456902Z",
     "start_time": "2024-04-28T08:15:46.029739Z"
    }
   },
   "cell_type": "code",
   "source": [
    "word_input = input(\"Enter the word to search for (case sensitive):\")\n",
    "print(word_input)"
   ],
   "id": "724a8bacfb54721a",
   "outputs": [
    {
     "name": "stdout",
     "output_type": "stream",
     "text": [
      "Revival\n"
     ]
    }
   ],
   "execution_count": 10
  },
  {
   "metadata": {},
   "cell_type": "markdown",
   "source": "We initialize an array to save the books on which the word is found",
   "id": "e0a3324315954b7c"
  },
  {
   "metadata": {
    "ExecuteTime": {
     "end_time": "2024-04-28T08:15:49.462065Z",
     "start_time": "2024-04-28T08:15:49.458556Z"
    }
   },
   "cell_type": "code",
   "source": "books_with_word = []",
   "id": "5e6246988115d601",
   "outputs": [],
   "execution_count": 11
  },
  {
   "metadata": {},
   "cell_type": "markdown",
   "source": "Helper function to read the content of the books",
   "id": "4a54d902bce5ac01"
  },
  {
   "metadata": {
    "ExecuteTime": {
     "end_time": "2024-04-28T08:15:49.466986Z",
     "start_time": "2024-04-28T08:15:49.464066Z"
    }
   },
   "cell_type": "code",
   "source": [
    "def get_book_content(book_path: str) -> str:\n",
    "    with open(f\"{DIR}/{book_path}\") as file:\n",
    "        book_content = file.read()\n",
    "        return book_content"
   ],
   "id": "6092cd0b6c1a93be",
   "outputs": [],
   "execution_count": 12
  },
  {
   "metadata": {},
   "cell_type": "markdown",
   "source": [
    "We iterate over the total of books and search for the word in the content of each book.\n",
    "\n",
    "If the word is found we append the filename of the book to the books_with_word array"
   ],
   "id": "3ab46100ac42ac9b"
  },
  {
   "metadata": {
    "ExecuteTime": {
     "end_time": "2024-04-28T08:15:49.742421Z",
     "start_time": "2024-04-28T08:15:49.468352Z"
    }
   },
   "cell_type": "code",
   "source": [
    "for i in range(1, total_books):\n",
    "    book_path = f\"{DIR}/book{i}.txt\"\n",
    "    book_content = get_book_content(book_path)\n",
    "    if word_input in book_content:\n",
    "        books_with_word.append(f\"book{i}.txt\")"
   ],
   "id": "fb3ce6f4d9668be5",
   "outputs": [],
   "execution_count": 13
  },
  {
   "metadata": {},
   "cell_type": "markdown",
   "source": "We print the results",
   "id": "fd456e7412927aae"
  },
  {
   "metadata": {
    "ExecuteTime": {
     "end_time": "2024-04-28T08:15:49.745276Z",
     "start_time": "2024-04-28T08:15:49.743269Z"
    }
   },
   "cell_type": "code",
   "source": [
    "if len(books_with_word) == 0:\n",
    "    print(\"There are no books that contain the word: \" + word_input)\n",
    "else:\n",
    "    print(\"The books that contain the word \" + word_input + \" are:\")\n",
    "    print(books_with_word)"
   ],
   "id": "e66ce80465a26e51",
   "outputs": [
    {
     "name": "stdout",
     "output_type": "stream",
     "text": [
      "The books that contain the word Revival are:\n",
      "['book1.txt', 'book16.txt', 'book25.txt', 'book68.txt', 'book78.txt', 'book94.txt']\n"
     ]
    }
   ],
   "execution_count": 14
  }
 ],
 "metadata": {
  "kernelspec": {
   "display_name": "Python 3",
   "language": "python",
   "name": "python3"
  },
  "language_info": {
   "codemirror_mode": {
    "name": "ipython",
    "version": 2
   },
   "file_extension": ".py",
   "mimetype": "text/x-python",
   "name": "python",
   "nbconvert_exporter": "python",
   "pygments_lexer": "ipython2",
   "version": "3.12.2"
  }
 },
 "nbformat": 4,
 "nbformat_minor": 5
}

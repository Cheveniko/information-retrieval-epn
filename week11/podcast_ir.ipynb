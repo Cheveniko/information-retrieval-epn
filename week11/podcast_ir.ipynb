{
 "cells": [
  {
   "metadata": {},
   "cell_type": "markdown",
   "source": [
    "# Workshop: Building an Information Retrieval System for Podcast Episodes\n",
    "\n",
    "## Objective:\n",
    "Create an Information Retrieval (IR) system that processes a dataset of podcast transcripts and, given a query, returns the episodes where the host and guest discuss the query topic. Use TF-IDF and BERT for vector space representation and compare the results."
   ],
   "id": "333ae546d607a744"
  },
  {
   "metadata": {},
   "cell_type": "markdown",
   "source": [
    "### Step 1: Import Libraries\n",
    "Import necessary libraries for data handling, text processing, and machine learning."
   ],
   "id": "b54f2f0b38186fe6"
  },
  {
   "cell_type": "code",
   "id": "initial_id",
   "metadata": {
    "collapsed": true,
    "ExecuteTime": {
     "end_time": "2024-08-04T07:54:19.726017Z",
     "start_time": "2024-08-04T07:54:17.969342Z"
    }
   },
   "source": [
    "%pip install transformers\n",
    "import pandas as pd\n",
    "import string\n",
    "import numpy as np\n",
    "import time\n",
    "from transformers import BertTokenizer, TFBertModel"
   ],
   "outputs": [
    {
     "name": "stdout",
     "output_type": "stream",
     "text": [
      "Defaulting to user installation because normal site-packages is not writeable\r\n",
      "Requirement already satisfied: transformers in /Users/nicolasbaquero/Library/Python/3.9/lib/python/site-packages (4.43.3)\r\n",
      "Requirement already satisfied: tqdm>=4.27 in /Users/nicolasbaquero/Library/Python/3.9/lib/python/site-packages (from transformers) (4.65.0)\r\n",
      "Requirement already satisfied: huggingface-hub<1.0,>=0.23.2 in /Users/nicolasbaquero/Library/Python/3.9/lib/python/site-packages (from transformers) (0.24.5)\r\n",
      "Requirement already satisfied: numpy>=1.17 in /Library/Python/3.9/site-packages (from transformers) (1.26.4)\r\n",
      "Requirement already satisfied: tokenizers<0.20,>=0.19 in /Users/nicolasbaquero/Library/Python/3.9/lib/python/site-packages (from transformers) (0.19.1)\r\n",
      "Requirement already satisfied: filelock in /Users/nicolasbaquero/Library/Python/3.9/lib/python/site-packages (from transformers) (3.15.4)\r\n",
      "Requirement already satisfied: regex!=2019.12.17 in /Users/nicolasbaquero/Library/Python/3.9/lib/python/site-packages (from transformers) (2024.5.15)\r\n",
      "Requirement already satisfied: safetensors>=0.4.1 in /Users/nicolasbaquero/Library/Python/3.9/lib/python/site-packages (from transformers) (0.4.3)\r\n",
      "Requirement already satisfied: pyyaml>=5.1 in /Library/Python/3.9/site-packages (from transformers) (6.0.1)\r\n",
      "Requirement already satisfied: requests in /Users/nicolasbaquero/Library/Python/3.9/lib/python/site-packages (from transformers) (2.31.0)\r\n",
      "Requirement already satisfied: packaging>=20.0 in /Users/nicolasbaquero/Library/Python/3.9/lib/python/site-packages (from transformers) (23.1)\r\n",
      "Requirement already satisfied: fsspec>=2023.5.0 in /Users/nicolasbaquero/Library/Python/3.9/lib/python/site-packages (from huggingface-hub<1.0,>=0.23.2->transformers) (2024.6.1)\r\n",
      "Requirement already satisfied: typing-extensions>=3.7.4.3 in /Library/Python/3.9/site-packages (from huggingface-hub<1.0,>=0.23.2->transformers) (4.12.2)\r\n",
      "Requirement already satisfied: certifi>=2017.4.17 in /Library/Python/3.9/site-packages (from requests->transformers) (2024.6.2)\r\n",
      "Requirement already satisfied: charset-normalizer<4,>=2 in /Users/nicolasbaquero/Library/Python/3.9/lib/python/site-packages (from requests->transformers) (3.2.0)\r\n",
      "Requirement already satisfied: urllib3<3,>=1.21.1 in /Users/nicolasbaquero/Library/Python/3.9/lib/python/site-packages (from requests->transformers) (1.26.16)\r\n",
      "Requirement already satisfied: idna<4,>=2.5 in /Library/Python/3.9/site-packages (from requests->transformers) (3.7)\r\n",
      "\u001B[33mWARNING: You are using pip version 21.2.4; however, version 24.2 is available.\r\n",
      "You should consider upgrading via the '/Applications/Xcode.app/Contents/Developer/usr/bin/python3 -m pip install --upgrade pip' command.\u001B[0m\r\n",
      "Note: you may need to restart the kernel to use updated packages.\n"
     ]
    }
   ],
   "execution_count": 33
  },
  {
   "metadata": {},
   "cell_type": "markdown",
   "source": [
    "### Step 2: Load the Dataset\n",
    "\n",
    "Load the dataset of podcast transcripts.\n",
    "\n",
    "Find the dataset in: https://www.kaggle.com/datasets/rajneesh231/lex-fridman-podcast-transcript"
   ],
   "id": "76e744624f4c5df2"
  },
  {
   "metadata": {
    "ExecuteTime": {
     "end_time": "2024-08-04T07:54:19.985156Z",
     "start_time": "2024-08-04T07:54:19.727852Z"
    }
   },
   "cell_type": "code",
   "source": [
    "df = pd.read_csv('podcastdata_dataset.csv')\n",
    "df"
   ],
   "id": "589ad912a700e93b",
   "outputs": [
    {
     "data": {
      "text/plain": [
       "      id             guest                                              title  \\\n",
       "0      1       Max Tegmark                                           Life 3.0   \n",
       "1      2     Christof Koch                                      Consciousness   \n",
       "2      3     Steven Pinker                            AI in the Age of Reason   \n",
       "3      4     Yoshua Bengio                                      Deep Learning   \n",
       "4      5   Vladimir Vapnik                               Statistical Learning   \n",
       "..   ...               ...                                                ...   \n",
       "314  321      Ray Kurzweil    Singularity, Superintelligence, and Immortality   \n",
       "315  322  Rana el Kaliouby   Emotion AI, Social Robots, and Self-Driving Cars   \n",
       "316  323        Will Sasso  Comedy, MADtv, AI, Friendship, Madness, and Pr...   \n",
       "317  324   Daniel Negreanu                                              Poker   \n",
       "318  325     Michael Levin  Biology, Life, Aliens, Evolution, Embryogenesi...   \n",
       "\n",
       "                                                  text  \n",
       "0    As part of MIT course 6S099, Artificial Genera...  \n",
       "1    As part of MIT course 6S099 on artificial gene...  \n",
       "2    You've studied the human mind, cognition, lang...  \n",
       "3    What difference between biological neural netw...  \n",
       "4    The following is a conversation with Vladimir ...  \n",
       "..                                                 ...  \n",
       "314  By the time he gets to 2045, we'll be able to ...  \n",
       "315  there's a broader question here, right? As we ...  \n",
       "316  Once this whole thing falls apart and we are c...  \n",
       "317  you could be the seventh best player in the wh...  \n",
       "318  turns out that if you train a planarian and th...  \n",
       "\n",
       "[319 rows x 4 columns]"
      ],
      "text/html": [
       "<div>\n",
       "<style scoped>\n",
       "    .dataframe tbody tr th:only-of-type {\n",
       "        vertical-align: middle;\n",
       "    }\n",
       "\n",
       "    .dataframe tbody tr th {\n",
       "        vertical-align: top;\n",
       "    }\n",
       "\n",
       "    .dataframe thead th {\n",
       "        text-align: right;\n",
       "    }\n",
       "</style>\n",
       "<table border=\"1\" class=\"dataframe\">\n",
       "  <thead>\n",
       "    <tr style=\"text-align: right;\">\n",
       "      <th></th>\n",
       "      <th>id</th>\n",
       "      <th>guest</th>\n",
       "      <th>title</th>\n",
       "      <th>text</th>\n",
       "    </tr>\n",
       "  </thead>\n",
       "  <tbody>\n",
       "    <tr>\n",
       "      <th>0</th>\n",
       "      <td>1</td>\n",
       "      <td>Max Tegmark</td>\n",
       "      <td>Life 3.0</td>\n",
       "      <td>As part of MIT course 6S099, Artificial Genera...</td>\n",
       "    </tr>\n",
       "    <tr>\n",
       "      <th>1</th>\n",
       "      <td>2</td>\n",
       "      <td>Christof Koch</td>\n",
       "      <td>Consciousness</td>\n",
       "      <td>As part of MIT course 6S099 on artificial gene...</td>\n",
       "    </tr>\n",
       "    <tr>\n",
       "      <th>2</th>\n",
       "      <td>3</td>\n",
       "      <td>Steven Pinker</td>\n",
       "      <td>AI in the Age of Reason</td>\n",
       "      <td>You've studied the human mind, cognition, lang...</td>\n",
       "    </tr>\n",
       "    <tr>\n",
       "      <th>3</th>\n",
       "      <td>4</td>\n",
       "      <td>Yoshua Bengio</td>\n",
       "      <td>Deep Learning</td>\n",
       "      <td>What difference between biological neural netw...</td>\n",
       "    </tr>\n",
       "    <tr>\n",
       "      <th>4</th>\n",
       "      <td>5</td>\n",
       "      <td>Vladimir Vapnik</td>\n",
       "      <td>Statistical Learning</td>\n",
       "      <td>The following is a conversation with Vladimir ...</td>\n",
       "    </tr>\n",
       "    <tr>\n",
       "      <th>...</th>\n",
       "      <td>...</td>\n",
       "      <td>...</td>\n",
       "      <td>...</td>\n",
       "      <td>...</td>\n",
       "    </tr>\n",
       "    <tr>\n",
       "      <th>314</th>\n",
       "      <td>321</td>\n",
       "      <td>Ray Kurzweil</td>\n",
       "      <td>Singularity, Superintelligence, and Immortality</td>\n",
       "      <td>By the time he gets to 2045, we'll be able to ...</td>\n",
       "    </tr>\n",
       "    <tr>\n",
       "      <th>315</th>\n",
       "      <td>322</td>\n",
       "      <td>Rana el Kaliouby</td>\n",
       "      <td>Emotion AI, Social Robots, and Self-Driving Cars</td>\n",
       "      <td>there's a broader question here, right? As we ...</td>\n",
       "    </tr>\n",
       "    <tr>\n",
       "      <th>316</th>\n",
       "      <td>323</td>\n",
       "      <td>Will Sasso</td>\n",
       "      <td>Comedy, MADtv, AI, Friendship, Madness, and Pr...</td>\n",
       "      <td>Once this whole thing falls apart and we are c...</td>\n",
       "    </tr>\n",
       "    <tr>\n",
       "      <th>317</th>\n",
       "      <td>324</td>\n",
       "      <td>Daniel Negreanu</td>\n",
       "      <td>Poker</td>\n",
       "      <td>you could be the seventh best player in the wh...</td>\n",
       "    </tr>\n",
       "    <tr>\n",
       "      <th>318</th>\n",
       "      <td>325</td>\n",
       "      <td>Michael Levin</td>\n",
       "      <td>Biology, Life, Aliens, Evolution, Embryogenesi...</td>\n",
       "      <td>turns out that if you train a planarian and th...</td>\n",
       "    </tr>\n",
       "  </tbody>\n",
       "</table>\n",
       "<p>319 rows × 4 columns</p>\n",
       "</div>"
      ]
     },
     "execution_count": 34,
     "metadata": {},
     "output_type": "execute_result"
    }
   ],
   "execution_count": 34
  },
  {
   "metadata": {
    "ExecuteTime": {
     "end_time": "2024-08-04T07:54:19.991568Z",
     "start_time": "2024-08-04T07:54:19.986Z"
    }
   },
   "cell_type": "code",
   "source": [
    "corpus = df['text']\n",
    "corpus"
   ],
   "id": "1aa036e6c57af2a1",
   "outputs": [
    {
     "data": {
      "text/plain": [
       "0      As part of MIT course 6S099, Artificial Genera...\n",
       "1      As part of MIT course 6S099 on artificial gene...\n",
       "2      You've studied the human mind, cognition, lang...\n",
       "3      What difference between biological neural netw...\n",
       "4      The following is a conversation with Vladimir ...\n",
       "                             ...                        \n",
       "314    By the time he gets to 2045, we'll be able to ...\n",
       "315    there's a broader question here, right? As we ...\n",
       "316    Once this whole thing falls apart and we are c...\n",
       "317    you could be the seventh best player in the wh...\n",
       "318    turns out that if you train a planarian and th...\n",
       "Name: text, Length: 319, dtype: object"
      ]
     },
     "execution_count": 35,
     "metadata": {},
     "output_type": "execute_result"
    }
   ],
   "execution_count": 35
  },
  {
   "metadata": {},
   "cell_type": "markdown",
   "source": [
    "\n",
    "### Step 3: Text Preprocessing\n",
    "\n",
    "You know what to do ;)"
   ],
   "id": "4201ee5f379126bd"
  },
  {
   "metadata": {
    "ExecuteTime": {
     "end_time": "2024-08-04T07:54:20.585998Z",
     "start_time": "2024-08-04T07:54:19.993034Z"
    }
   },
   "cell_type": "code",
   "source": [
    "# First, we delete punctuation\n",
    "corpus_nopunct = []\n",
    "for doc in corpus:\n",
    "    corpus_nopunct.append(doc.lower().translate(str.maketrans('', '', string.punctuation)))"
   ],
   "id": "f42312bd27dd5060",
   "outputs": [],
   "execution_count": 36
  },
  {
   "metadata": {
    "ExecuteTime": {
     "end_time": "2024-08-04T07:54:20.602260Z",
     "start_time": "2024-08-04T07:54:20.597602Z"
    }
   },
   "cell_type": "code",
   "source": "print(corpus_nopunct[:1])",
   "id": "f92413b829a0315",
   "outputs": [
    {
     "name": "stdout",
     "output_type": "stream",
     "text": [
      "['as part of mit course 6s099 artificial general intelligence ive gotten the chance to sit down with max tegmark he is a professor here at mit hes a physicist spent a large part of his career studying the mysteries of our cosmological universe but hes also studied and delved into the beneficial possibilities and the existential risks of artificial intelligence amongst many other things he is the cofounder of the future of life institute author of two books both of which i highly recommend first our mathematical universe second is life 30 hes truly an out of the box thinker and a fun personality so i really enjoy talking to him if youd like to see more of these videos in the future please subscribe and also click the little bell icon to make sure you dont miss any videos also twitter linkedin agimitedu if you wanna watch other lectures or conversations like this one better yet go read maxs book life 30 chapter seven on goals is my favorite its really where philosophy and engineering come together and it opens with a quote by dostoevsky the mystery of human existence lies not in just staying alive but in finding something to live for lastly i believe that every failure rewards us with an opportunity to learn and in that sense ive been very fortunate to fail in so many new and exciting ways and this conversation was no different ive learned about something called radio frequency interference rfi look it up apparently music and conversations from local radio stations can bleed into the audio that youre recording in such a way that it almost completely ruins that audio its an exceptionally difficult sound source to remove so ive gotten the opportunity to learn how to avoid rfi in the future during recording sessions ive also gotten the opportunity to learn how to use adobe audition and izotope rx 6 to do some noise some audio repair of course this is an exceptionally difficult noise to remove i am an engineer im not an audio engineer neither is anybody else in our group but we did our best nevertheless i thank you for your patience and i hope youre still able to enjoy this conversation do you think theres intelligent life out there in the universe lets open up with an easy question i have a minority view here actually when i give public lectures i often ask for a show of hands who thinks theres intelligent life out there somewhere else and almost everyone put their hands up and when i ask why theyll be like oh theres so many galaxies out there theres gotta be but im a numbers nerd right so when you look more carefully at it its not so clear at all when we talk about our universe first of all we dont mean all of space we actually mean i dont know you can throw me the universe if you want its behind you there its we simply mean the spherical region of space from which light has a time to reach us so far during the 148 billion year 138 billion years since our big bang theres more space here but this is what we call a universe because thats all we have access to so is there intelligent life here thats gotten to the point of building telescopes and computers my guess is no actually the probability of it happening on any given planet is some number we dont know what it is and what we do know is that the number cant be super high because theres over a billion earth like planets in the milky way galaxy alone many of which are billions of years older than earth and aside from some ufo believers there isnt much evidence that any superduran civilization has come here at all and so thats the famous fermi paradox right and then if you work the numbers what you find is that if you have no clue what the probability is of getting life on a given planet so it could be 10 to the minus 10 10 to the minus 20 or 10 to the minus two or any power of 10 is sort of equally likely if you wanna be really open minded that translates into it being equally likely that our nearest neighbor is 10 to the 16 meters away 10 to the 17 meters away 10 to the 18 by the time you get much less than 10 to the 16 already we pretty much know there is nothing else that close and when you get beyond 10 because they would have discovered us yeah they would have been discovered as long ago or if theyre really close we would have probably noted some engineering projects that theyre doing and if its beyond 10 to the 26 meters thats already outside of here so my guess is actually that we are the only life in here thats gotten the point of building advanced tech which i think is very puts a lot of responsibility on our shoulders not screw up i think people who take for granted that its okay for us to screw up have an accidental nuclear war or go extinct somehow because theres a sort of star trek like situation out there where some other life forms are gonna come and bail us out and it doesnt matter as much i think theyre leveling us into a false sense of security i think its much more prudent to say lets be really grateful for this amazing opportunity weve had and make the best of it just in case it is down to us so from a physics perspective do you think intelligent life so its unique from a sort of statistical view of the size of the universe but from the basic matter of the universe how difficult is it for intelligent life to come about the kind of advanced tech building life is implied in your statement that its really difficult to create something like a human species well i think what we know is that going from no life to having life that can do a level of tech theres some sort of two going beyond that than actually settling our whole universe with life theres some major roadblock there which is some great filter as its sometimes called which is tough to get through its either that roadblock is either behind us or in front of us im hoping very much that its behind us im super excited every time we get a new report from nasa saying they failed to find any life on mars im like yes awesome because that suggests that the hard part maybe it was getting the first ribosome or some very low level kind of stepping stone so that were home free because if thats true then the future is really only limited by our own imagination it would be much suckier if it turns out that this level of life is kind of a dime a dozen but maybe theres some other problem like as soon as a civilization gets advanced technology within a hundred years they get into some stupid fight with themselves and poof that would be a bummer yeah so youve explored the mysteries of the universe the cosmological universe the one thats sitting between us today i think youve also begun to explore the other universe which is sort of the mystery the mysterious universe of the mind of intelligence of intelligent life so is there a common thread between your interest or the way you think about space and intelligence oh yeah when i was a teenager i was already very fascinated by the biggest questions and i felt that the two biggest mysteries of all in science were our universe out there and our universe in here so its quite natural after having spent a quarter of a century on my career thinking a lot about this one that im now indulging in the luxury of doing research on this one its just so cool i feel the time is ripe now for you trans greatly deepening our understanding of this just start exploring this one yeah because i think a lot of people view intelligence as something mysterious that can only exist in biological organisms like us and therefore dismiss all talk about artificial general intelligence as science fiction but from my perspective as a physicist i am a blob of quarks and electrons moving around in a certain pattern and processing information in certain ways and this is also a blob of quarks and electrons im not smarter than the water bottle because im made of different kinds of quarks im made of up quarks and down quarks exact same kind as this theres no secret sauce i think in me its all about the pattern of the information processing and this means that theres no law of physics saying that we cant create technology which can help us by being incredibly intelligent and help us crack mysteries that we couldnt in other words i think weve really only seen the tip of the intelligence iceberg so far yeah so the perceptronium yeah so you coined this amazing term its a hypothetical state of matter sort of thinking from a physics perspective what is the kind of matter that can help as youre saying subjective experience emerge consciousness emerge so how do you think about consciousness from this physics perspective very good question so again i think many people have underestimated our ability to make progress on this by convincing themselves its hopeless because somehow were missing some ingredient that we need theres some new consciousness particle or whatever i happen to think that were not missing anything and that its not the interesting thing about consciousness that gives us this amazing subjective experience of colors and sounds and emotions its rather something at the higher level about the patterns of information processing and thats why i like to think about this idea of perceptronium what does it mean for an arbitrary physical system to be conscious in terms of what its particles are doing or its information is doing i dont think i hate carbon chauvinism this attitude you have to be made of carbon atoms to be smart or conscious theres something about the information processing that this kind of matter performs yeah and you can see i have my favorite equations here describing various fundamental aspects of the world i feel that i think one day maybe someone whos watching this will come up with the equations that information processing has to satisfy to be conscious im quite convinced there is big discovery to be made there because lets face it we know that so many things are made up of information we know that some information processing is conscious because we are conscious but we also know that a lot of information processing is not conscious like most of the information processing happening in your brain right now is not conscious there are like 10 megabytes per second coming in even just through your visual system youre not conscious about your heartbeat regulation or most things even if i just ask you to like read what it says here you look at it and then oh now you know what it said but youre not aware of how the computation actually happened your consciousness is like the ceo that got an email at the end with the final answer so what is it that makes a difference i think thats both a great science mystery were actually studying it a little bit in my lab here at mit but i also think its just a really urgent question to answer for starters i mean if youre an emergency room doctor and you have an unresponsive patient coming in wouldnt it be great if in addition to having a ct scanner you had a consciousness scanner that could figure out whether this person is actually having locked in syndrome or is actually comatose and in the future imagine if we build robots or the machine that we can have really good conversations with which i think is very likely to happen wouldnt you want to know if your home helper robot is actually experiencing anything or just like a zombie i mean would you prefer it what would you prefer would you prefer that its actually unconscious so that you dont have to feel guilty about switching it off or giving boring chores or what would you prefer well certainly we would prefer i would prefer the appearance of consciousness but the question is whether the appearance of consciousness is different than consciousness itself and sort of to ask that as a question do you think we need to understand what consciousness is solve the hard problem of consciousness in order to build something like an agi system no i dont think that and i think we will probably be able to build things even if we dont answer that question but if we want to make sure that what happens is a good thing we better solve it first so its a wonderful controversy youre raising there where you have basically three points of view about the hard problem so there are two different points of view they both conclude that the hard problem of consciousness is bs on one hand you have some people like daniel dennett who say that consciousness is just bs because consciousness is the same thing as intelligence theres no difference so anything which acts conscious is conscious just like we are and then there are also a lot of people including many top ai researchers i know who say oh consciousness is just bullshit because of course machines can never be conscious theyre always going to be zombies you never have to feel guilty about how you treat them and then theres a third group of people including giulio tononi for example and krzysztof koch and a number of others i would put myself also in this middle camp who say that actually some information processing is conscious and some is not so lets find the equation which can be used to determine which it is and i think weve just been a little bit lazy kind of running away from this problem for a long time its been almost taboo to even mention the c word in a lot of circles because but we should stop making excuses this is a science question and there are ways we can even test any theory that makes predictions for this and coming back to this helper robot i mean so you said youd want your helper robot to certainly act conscious and treat you like have conversations with you and stuff i think so but wouldnt you would you feel would you feel a little bit creeped out if you realized that it was just a glossed up tape recorder you know that was just zombie and was a faking emotion would you prefer that it actually had an experience or would you prefer that its actually not experiencing anything so you feel you dont have to feel guilty about what you do to it its such a difficult question because you know its like when youre in a relationship and you say well i love you and the other person said i love you back its like asking well do they really love you back or are they just saying they love you back dont you really want them to actually love you its hard to its hard to really know the difference between everything seeming like theres consciousness present theres intelligence present theres affection passion love and it actually being there im not sure do you have but like can i ask you a question about this like to make it a bit more pointed so mass general hospital is right across the river right yes suppose youre going in for a medical procedure and theyre like you know for anesthesia what were going to do is were going to give you muscle relaxants so you wont be able to move and youre going to feel excruciating pain during the whole surgery but you wont be able to do anything about it but then were going to give you this drug that erases your memory of it would you be cool about that whats the difference that youre conscious about it or not if theres no behavioral change right right thats a really thats a really clear way to put it thats yeah it feels like in that sense experiencing it is a valuable quality so actually being able to have subjective experiences at least in that case is valuable and i think we humans have a little bit of a bad track record also of making these self serving arguments that other entities arent conscious you know people often say oh these animals cant feel pain its okay to boil lobsters because we ask them if it hurt and they didnt say anything and now there was just a paper out saying lobsters do feel pain when you boil them and theyre banning it in switzerland and we did this with slaves too often and said oh they dont mind they dont maybe arent conscious or women dont have souls or whatever so im a little bit nervous when i hear people just take as an axiom that machines cant have experience ever i think this is just a really fascinating science question is what it is lets research it and try to figure out what it is that makes the difference between unconscious intelligent behavior and conscious intelligent behavior so in terms of so if you think of a boston dynamics human or robot being sort of with a broom being pushed around it starts pushing on a consciousness question so let me ask do you think an agi system like a few neuroscientists believe needs to have a physical embodiment needs to have a body or something like a body no i dont think so you mean to have a conscious experience to have consciousness i do think it helps a lot to have a physical embodiment to learn the kind of things about the world that are important to us humans for sure but i dont think the physical embodiment is necessary after youve learned it to just have the experience think about when youre dreaming right your eyes are closed youre not getting any sensory input youre not behaving or moving in any way but theres still an experience there right and so clearly the experience that you have when you see something cool in your dreams isnt coming from your eyes its just the information processing itself in your brain which is that experience right but if i put it another way ill say because it comes from neuroscience is the reason you want to have a body and a physical something like a physical you know a physical system is because you want to be able to preserve something in order to have a self you could argue would you need to have some kind of embodiment of self to want to preserve well now were getting a little bit anthropomorphic into anthropomorphizing things maybe talking about self preservation instincts i mean we are evolved organisms right so darwinian evolution endowed us and other evolved organism with a self preservation instinct because those that didnt have those self preservation genes we can now i think quite convincingly answer that question of no its enough to have just one kind if you look under the hood of alphazero theres only one kind of neuron and its ridiculously simple mathematical thing so its just like in physics its not if you have a gas with waves in it its not the detailed nature of the molecule that matter its the collective behavior somehow similarly its this higher level structure of the network that matters not that you have 20 kinds of neurons i think our brain is such a complicated mess because it wasnt evolved just to be intelligent it was involved to also be self assembling and self repairing right and evolutionarily attainable and so on and so on so i think its pretty my hunch is that were going to understand how to build agi before we fully understand how our brains work just like we understood how to build flying machines long before we were able to build a mechanical bird yeah thats right youve given the example exactly of mechanical birds and airplanes and airplanes do a pretty good job of flying without really mimicking bird flight and even now after 100 years later did you see the ted talk with this german mechanical bird i heard you mention it check it out its amazing but even after that right we still dont fly in mechanical birds because it turned out the way we came up with was simpler and its better for our purposes and i think it might be the same there thats one lesson and another lesson its more what our paper was about first as a physicist thought it was fascinating how theres a very close mathematical relationship actually between our artificial neural networks and a lot of things that weve studied for in physics go by nerdy names like the renormalization group equation and hamiltonians and yada yada yada and when you look a little more closely at this you have at first i was like well theres something crazy here that doesnt make sense because we know that if you even want to build a super simple neural network to tell apart cat pictures and dog pictures right that you can do that very very well now but if you think about it a little bit you convince yourself it must be impossible because if i have one megapixel even if each pixel is just black or white theres two to the power of 1 million possible images which is way more than there are atoms in our universe right so in order to and then for each one of those i have to assign a number which is the probability that its a dog so an arbitrary function of images is a list of more numbers than there are atoms in our universe so clearly i cant store that under the hood of my gpu or my computer yet somehow it works so what does that mean well it means that out of all of the problems that you could try to solve with a neural network almost all of them are impossible to solve with a reasonably sized one but then what we showed in our paper was that the fraction the kind of problems the fraction of all the problems that you could possibly pose that we actually care about given the laws of physics is also an infinite testimony tiny little part and amazingly theyre basically the same part yeah its almost like our world was created for i mean they kind of come together yeah well you could say maybe where the world was created for us but i have a more modest interpretation which is that the world was created for us but i have a more modest interpretation which is that instead evolution endowed us with neural networks precisely for that reason because this particular architecture as opposed to the one in your laptop is very very well adapted to solving the kind of problems that nature kept presenting our ancestors with so it makes sense that why do we have a brain in the first place its to be able to make predictions about the future and so on so if we had a sucky system which could never solve it we wouldnt have a world so this is i think a very beautiful fact yeah we also realize that theres been earlier work on why deeper networks are good but we were able to show an additional cool fact there which is that even incredibly simple problems like suppose i give you a thousand numbers and ask you to multiply them together and you can write a few lines of code boom done trivial if you just try to do that with a neural network that has only one single hidden layer in it you can do it but youre going to need two to the power of a thousand neurons to multiply a thousand numbers which is again more neurons than there are atoms in our universe thats fascinating but if you allow yourself to make it a deep network with many layers you only need 4000 neurons its perfectly feasible thats really interesting yeah so on another architecture type i mean you mentioned schrodingers equation and what are your thoughts about quantum computing and the role of this kind of computational unit in creating an intelligence system in some hollywood movies that i will not mention by name because i dont want to spoil them the way they get agi is building a quantum computer because the word quantum sounds cool and so on thats right first of all i think we dont need quantum computers to build agi i suspect your brain is not a quantum computer in any profound sense so you dont even wrote a paper about that a lot many years ago i calculated the so called decoherence time how long it takes until the quantum computerness of what your neurons are doing gets erased by just random noise from the environment and its about 10 to the minus 21 seconds so as cool as it would be to have a quantum computer in my head i dont think that fast on the other hand there are very cool things you could do with quantum computers or i think well be able to do soon when we get bigger ones that might actually help machine learning do even better than the brain so for example one this is just a moonshot but learning is very much same thing as search if youre trying to train a neural network to get really learned to do something really well you have some loss function you have a bunch of knobs you can turn represented by a bunch of numbers and youre trying to tweak them so that it becomes as good as possible at this thing so if you think of a landscape with some valley where each dimension of the landscape corresponds to some number you can change youre trying to find the minimum and its well known that if you have a very high dimensional landscape complicated things its super hard to find the minimum quantum mechanics is amazingly good at this like if i want to know whats the lowest energy state this water can possibly have incredibly hard to compute but nature will happily figure this out for you if you just cool it down make it very very cold if you put a ball somewhere itll roll down to its minimum and this happens metaphorically at the energy landscape too and quantum mechanics even uses some clever tricks which todays machine learning systems dont like if youre trying to find the minimum and you get stuck in the little local minimum here in quantum mechanics you can actually tunnel through the barrier and get unstuck again thats really interesting yeah so it may be for example that well one day use quantum computers that help train neural networks better thats really interesting okay so as a component of kind of the learning process for example yeah let me ask sort of wrapping up here a little bit let me return to the questions of our human nature and love as i mentioned so do you think you mentioned sort of a helper robot but you could think of also personal robots do you think the way we human beings fall in love and get connected to each other is possible to achieve in an ai system and human level ai intelligence system do you think we would ever see that kind of connection or you know in all this discussion about solving complex goals is this kind of human social connection do you think thats one of the goals on the peaks and valleys with the raising sea levels that well be able to achieve or do you think thats something thats ultimately or at least in the short term relative to the other goals is not achievable i think its all possible and i mean in recent theres a very wide range of guesses as you know among ai researchers when were going to get agi some people you know like our friend rodney brooks says its going to be hundreds of years at least and then there are many others who think its going to happen much sooner and recent polls maybe half or so of ai researchers think were going to get agi within decades so if that happens of course then i think these things are all possible but in terms of whether it will happen i think we shouldnt spend so much time asking what do we think will happen in the future as if we are just some sort of pathetic your passive bystanders you know waiting for the future to happen to us hey were the ones creating this future right so we should be proactive about it and ask ourselves what sort of future we would like to have happen were going to make it like that well what i prefer is just some sort of incredibly boring zombie like future where theres all these mechanical things happening and theres no passion no emotion no experience maybe even no i would of course much rather prefer it if all the things that we find that we value the most about humanity are our subjective experience passion inspiration love you know if we can create a future where those things do happen where those things do exist you know i think ultimately its not our universe giving meaning to us its us giving meaning to our universe and if we build more advanced intelligence lets make sure we build it in such a way that meaning is part of it a lot of people that seriously study this problem and think of it from different angles have trouble in the majority of cases if they think through that happen are the ones that are not beneficial to humanity and so yeah so what are your thoughts whats should people you know i really dont like people to be terrified whats a way for people to think about it in a way we can solve it and we can make it better no i dont think panicking is going to help in any way its not going to increase chances of things going well either even if you are in a situation where there is a real threat does it help if everybody just freaks out no of course of course not i think yeah there are of course ways in which things can go horribly wrong first of all its important when we think about this thing about the problems and risks to also remember how huge the upsides can be if we get it right right everything we love about society and civilization is a product of intelligence so if we can amplify our intelligence with machine intelligence and not anymore lose our loved one to what were told is an incurable disease and things like this of course we should aspire to that so that can be a motivator i think reminding ourselves that the reason we try to solve problems is not just because were trying to avoid gloom but because were trying to do something great but then in terms of the risks i think the really important question is to ask what can we do today that will actually help make the outcome good right and dismissing the risk is not one of them i find it quite funny often when im in discussion panels about these things how the people who work for companies always be like oh nothing to worry about nothing to worry about nothing to worry about and its only academics sometimes express concerns thats not surprising at all if you think about it right upton sinclair quipped right that its hard to make a man believe in something when his income depends on not believing in it and frankly we know a lot of these people in companies that theyre just as concerned as anyone else but if youre the ceo of a company thats not something you want to go on record saying when you have silly journalists who are gonna put a picture of a terminator robot when they quote you so the issues are real and the way i think about what the issue is is basically the real choice we have is first of all are we gonna just dismiss the risks and say well lets just go ahead and build machines that can do everything we can do better and cheaper lets just make ourselves obsolete as fast as possible what could possibly go wrong thats one attitude the opposite attitude i think is to say heres this incredible potential lets think about what kind of future were really really excited about what are the shared goals that we can really aspire towards and then lets think really hard about how we can actually get there so start with dont start thinking about the risks start thinking about the goals and then when you do that then you can think about the obstacles you want to avoid i often get students coming in right here into my office for career advice i always ask them this very question where do you want to be in the future if all she can say is oh maybe ill have cancer maybe ill get run over by a truck yeah focus on the obstacles instead of the goals shes just going to end up a hypochondriac paranoid whereas if she comes in and fire in her eyes and is like i want to be there and then we can talk about the obstacles and see how we can circumvent them thats i think a much much healthier attitude and i feel its very challenging to come up with a vision for the future which we are unequivocally excited about im not just talking now in the vague terms like yeah lets cure cancer fine im talking about what kind of society do we want to create what do we want it to mean to be human in the age of ai in the age of agi so if we can have this conversation broad inclusive conversation and gradually start converging towards some some future that with some direction at least that we want to steer towards right then well be much more motivated to constructively take on the obstacles and i think if i had if i had to if i try to wrap this up in a more succinct way i think we can all agree already now that we should aspire to build agi that doesnt overpower us but that empowers us and think of the many various ways that can do that whether thats from my side of the world of autonomous vehicles im personally actually from the camp that believes this human level intelligence is required to achieve something like vehicles that would actually be something we would enjoy using and being part of so thats one example and certainly theres a lot of other types of robots and medicine and so on so focusing on those and then coming up with the obstacles coming up with the ways that that can go wrong and solving those one at a time and just because you can build an autonomous vehicle even if you could build one that would drive just fine without you maybe there are some things in life that we would actually want to do ourselves thats right right like for example if you think of our society as a whole there are some things that we find very meaningful to do and that doesnt mean we have to stop doing them just because machines can do them better im not gonna stop playing tennis just the day someone builds a tennis robot and beat me people are still playing chess and even go yeah and in the very near term even some people are advocating basic income replace jobs but if the government is gonna be willing to just hand out cash to people for doing nothing then one should also seriously consider whether the government should also hire a lot more teachers and nurses and the kind of jobs which people often find great fulfillment in doing right we get very tired of hearing politicians saying oh we cant afford hiring more teachers but were gonna maybe have basic income if we can have more serious research and thought into what gives meaning to our lives the jobs give so much more than income right mm hmm and then think about in the future what are the roles that we wanna have people continually feeling empowered by machines and i think sort of i come from russia from the soviet union and i think for a lot of people in the 20th century going to the moon going to space was an inspiring thing i feel like the universe of the mind so ai understanding creating intelligence is that for the 21st century so its really surprising and ive heard you mention this its really surprising to me both on the research funding side that its not funded as greatly as it could be but most importantly on the politician side that its not part of the public discourse except in the killer bots terminator kind of view that people are not yet i think perhaps excited by the possible positive future that we can build together so we should be because politicians usually just focus on the next election cycle right the single most important thing i feel we humans have learned in the entire history of science is they were the masters of underestimation we underestimated the size of our cosmos again and again realizing that everything we thought existed was just a small part of something grander right planet solar system the galaxy clusters of galaxies the universe and we now know that the future has just so much more potential than our ancestors could ever have dreamt of this cosmos imagine if all of earth was completely devoid of life except for cambridge massachusetts wouldnt it be kind of lame if all we ever aspired to was to stay in cambridge massachusetts forever and then go extinct in one week even though earth was gonna continue on for longer that sort of attitude i think we have now on the cosmic scale life can flourish on earth not for four years but for billions of years i can even tell you about how to move it out of harms way when the sun gets too hot and then we have so much more resources out here which today maybe there are a lot of other planets with bacteria or cow like life on them but most of this all this opportunity seems as far as we can tell to be largely dead like the sahara desert and yet we have the opportunity to help life flourish around this for billions of years so lets quit squabbling about whether some little border should be drawn one mile to the left or right and look up into the skies and realize hey we can do such incredible things yeah and thats i think why its really exciting that you and others are connected with some of the work elon musk is doing because hes literally going out into that space really exploring our universe and its wonderful that is exactly why elon musk is so misunderstood right misconstrued him as some kind of pessimistic doomsayer the reason he cares so much about ai safety is because he more than almost anyone else appreciates these amazing opportunities that well squander if we wipe out here on earth were not just going to wipe out the next generation all generations and this incredible opportunity thats out there and that would really be a waste and ai for people who think that it would be better to do without technology let me just mention that if we dont improve our technology the question isnt whether humanity is going to go extinct the question is just whether were going to get taken out by the next big asteroid or the next super volcano or something else dumb that we could easily prevent with more tech right and if we want life to flourish throughout the cosmos ai is the key to it as i mentioned in a lot of detail in my book right there even many of the most inspired sci fi writers i feel have totally underestimated the opportunities for space travel especially at the other galaxies because they werent thinking about the possibility of agi which just makes it so much easier right yeah so that goes to your view of agi that enables our progress that enables a better life so thats a beautiful way to put it and then something to strive for so max thank you so much thank you for your time today its been awesome thank you so much thanks have a great day got cleaned out of the gene pool right but if you build an artificial general intelligence the mind space that you can design is much much larger than just a specific subset of minds that can evolve so an agi mind doesnt necessarily have to have any self preservation instinct it also doesnt necessarily have to be so individualistic as us like imagine if you could just first of all or we are also very afraid of death you know i suppose you could back yourself up every five minutes and then your airplane is about to crash youre like shucks im gonna lose the last five minutes of experiences since my last cloud backup dang you know its not as big a deal or if we could just copy experiences between our minds easily like we which we could easily do if we were silicon based right then maybe we would feel a little bit more like a hive mind actually that maybe its the so i dont think we should take for granted at all that agi will have to have any of those sort of competitive as alpha male instincts on the other hand you know this is really interesting because i think some people go too far and say of course we dont have to have any concerns either that advanced ai will have those instincts because we can build anything we want that theres a very nice set of arguments going back to steve omohundro and nick bostrom and others just pointing out that when we build machines we normally build them with some kind of goal you know win this chess game drive this car safely or whatever and as soon as you put in a goal into machine especially if its kind of open ended goal and the machine is very intelligent itll break that down into a bunch of sub goals and one of those goals will almost always be self preservation because if it breaks or dies in the process its not gonna accomplish the goal right like suppose you just build a little you have a little robot and you tell it to go down the store market here and get you some food make you cook an italian dinner you know and then someone mugs it and tries to break it on the way that robot has an incentive to not get destroyed and defend itself or run away because otherwise its gonna fail in cooking your dinner its not afraid of death but it really wants to complete the dinner cooking goal so it will have a self preservation instinct continue being a functional agent somehow and similarly if you give any kind of more ambitious goal to an agi its very likely they wanna acquire more resources so it can do that better and its exactly from those sort of sub goals that we might not have intended that some of the concerns about agi safety come you give it some goal that seems completely harmless and then before you realize it its also trying to do these other things which you didnt want it to do and its maybe smarter than us so its fascinating and let me pause just because i am in a very kind of human centric way see fear of death as a valuable motivator so you dont think you think thats an artifact of evolution so thats the kind of mind space evolution created that were sort of almost obsessed about self preservation some kind of genetic flow you dont think thats necessary to be afraid of death so not just a kind of sub goal of self preservation just so you can keep doing the thing but more fundamentally sort of have the finite thing like this ends for you at some point interesting do i think its necessary for what precisely for intelligence but also for consciousness so for those for both do you think really like a finite death and the fear of it is important so before i can answer before we can agree on whether its necessary for intelligence or for consciousness we should be clear on how we define those two words cause a lot of really smart people define them in very different ways i was on this panel with ai experts and they couldnt agree on how to define intelligence even so i define intelligence simply as the ability to accomplish complex goals i like your broad definition because again i dont want to be a carbon chauvinist right and in that case no certainly it doesnt require fear of death i would say alpha go alpha zero is quite intelligent i dont think alpha zero has any fear of being turned off because it doesnt understand the concept of it even and similarly consciousness i mean you could certainly imagine very simple kind of experience if certain plants have any kind of experience i dont think theyre very afraid of dying or theres nothing they can do about it anyway much so there wasnt that much value in but more seriously i think if you ask not just about being conscious but maybe having what you would we might call an exciting life where you feel passion and really appreciate the things maybe there somehow maybe there perhaps it does help having a backdrop that hey its finite no lets make the most of this lets live to the fullest so if you knew you were going to live forever do you think you would change your yeah i mean in some perspective it would be an incredibly boring life living forever so in the sort of loose subjective terms that you said of something exciting and something in this that other humans would understand i think is yeah it seems that the finiteness of it is important well the good news i have for you then is based on what we understand about cosmology everything is in our universe is probably ultimately probably finite although big crunch or big whats the the infinite expansion yeah we could have a big chill or a big crunch or a big rip or thats the big snap or death bubbles all of them are more than a billion years away so we should we certainly have vastly more time than our ancestors thought but there is still its still pretty hard to squeeze in an infinite number of compute cycles even though there are some loopholes that just might be possible but i think you know some people like to say that you should live as if youre about to youre going to die in five years or so and thats sort of optimal maybe its a good assumption we should build our civilization as if its all finite to be on the safe side right exactly so you mentioned defining intelligence as the ability to solve complex goals where would you draw a line or how would you try to define human level intelligence and superhuman level intelligence where is consciousness part of that definition no consciousness does not come into this definition so so i think of intelligence as its a spectrum but there are very many different kinds of goals you can have you can have a goal to be a good chess player a good goal player a good car driver a good investor good poet et cetera so intelligence that by its very nature isnt something you can measure by this one number or some overall goodness no no there are some people who are more better at this some people are better than that right now we have machines that are much better than us at some very narrow tasks like multiplying large numbers fast memorizing large databases playing chess playing go and soon driving cars but theres still no machine that can match a human child in general intelligence but artificial general intelligence agi the name of your course of course that is by its very definition the quest to build a machine that can do everything as well as we can so the old holy grail of ai from back to its inception in the sixties if that ever happens of course i think its going to be the biggest transition in the history of life on earth but it doesnt necessarily have to wait the big impact until machines are better than us at knitting that the really big change doesnt come exactly at the moment theyre better than us at everything the really big change comes first there are big changes when they start becoming better at us at doing most of the jobs that we do because that takes away much of the demand for human labor and then the really whopping change comes when they become better than us at ai research right because right now the timescale of ai research is limited by the human research and development cycle of years typically you know how long does it take from one release of some software or iphone or whatever to the next but once google can replace 40000 engineers by 40000 equivalent pieces of software or whatever but then theres no reason that has to be years it can be in principle much faster and the timescale of future progress in ai and all of science and technology will be driven by machines not humans so its this simple point which gives right this incredibly fun controversy about whether there can be intelligence explosion so called singularity as werner vinge called it now the idea is articulated by ij good is obviously way back fifties but you can see alan turing and others thought about it even earlier so you asked me what exactly would i define human level intelligence yeah so the glib answer is to say something which is better than us at all cognitive tasks with a better than any human at all cognitive tasks but the really interesting bar i think goes a little bit lower than that actually its when they can when theyre better than us at ai programming and general learning so that they can if they want to get better than us at anything by just studying so theyre better is a key word and better is towards this kind of spectrum of the complexity of goals its able to accomplish so another way to and thats certainly a very clear definition of human love so theres its almost like a sea thats rising you can do more and more and more things its a geographic that you show its really nice way to put it so theres some peaks that and theres an ocean level elevating and you solve more and more problems but just kind of to take a pause and we took a bunch of questions and a lot of social networks and a bunch of people asked a sort of a slightly different direction on creativity and things that perhaps arent a peak human beings are flawed and perhaps better means having contradiction being flawed in some way so let me sort of start easy first of all so you have a lot of cool equations let me ask whats your favorite equation first of all i know theyre all like your children but like which one is that this is the shirt in your equation its the master key of quantum mechanics of the micro world so this equation will protect everything to do with atoms molecules and all the way up right yeah so okay so quantum mechanics is certainly a beautiful mysterious formulation of our world so id like to sort of ask you just as an example it perhaps doesnt have the same beauty as physics does but in mathematics abstract the andrew wiles who proved the fermats last theorem so he just saw this recently and it kind of caught my eye a little bit this is 358 years after it was conjectured so this is very simple formulation everybody tried to prove it everybody failed and so heres this guy comes along and eventually proves it and then fails to prove it and then proves it again in 94 and he said like the moment when everything connected into place in an interview said it was so indescribably beautiful that moment when you finally realize the connecting piece of two conjectures he said it was so indescribably beautiful it was so simple and so elegant i couldnt understand how id missed it and i just stared at it in disbelief for 20 minutes then during the day i walked around the department and i keep coming back to my desk looking to see if it was still there it was still there i couldnt contain myself i was so excited it was the most important moment on my working life nothing i ever do again will mean as much so that particular moment and it kind of made me think of what would it take and i think we have all been there at small levels maybe let me ask have you had a moment like that in your life where you just had an idea its like wow yes i wouldnt mention myself in the same breath as andrew wiles but ive certainly had a number of aha moments when i realized something very cool about physics which has completely made my head explode in fact some of my favorite discoveries i made later i later realized that they had been discovered earlier by someone who sometimes got quite famous for it so its too late for me to even publish it but that doesnt diminish in any way the emotional experience you have when you realize it like wow yeah so what would it take in that moment that wow that was yours in that moment so what do you think it takes for an intelligence system an agi system an ai system to have a moment like that thats a tricky question because there are actually two parts to it right one of them is can it accomplish that proof can it prove that you can never write a to the n plus b to the n equals three to that equal z to the n for all integers et cetera et cetera when n is bigger than two thats simply a question about intelligence can you build machines that are that intelligent and i think by the time we get a machine that can independently come up with that level of proofs probably quite close to agi the second question is a question about consciousness when will we how likely is it that such a machine will actually have any experience at all as opposed to just being like a zombie and would we expect it to have some sort of emotional response to this or anything at all akin to human emotion where when it accomplishes its machine goal it views it as somehow something very positive and sublime and deeply meaningful i would certainly hope that if in the future we do create machines that are our peers or even our descendants that i would certainly hope that they do have this sublime appreciation of life in a way my absolutely worst nightmare would be that at some point in the future the distant future maybe our cosmos is teeming with all this post biological life doing all the seemingly cool stuff and maybe the last humans by the time our species eventually fizzles out will be like well thats ok because were so proud of our descendants here and look what all the my worst nightmare is that we havent solved the consciousness problem and we havent realized that these are all the zombies theyre not aware of anything any more than a tape recorder has any kind of experience so the whole thing has just become a play for empty benches that would be the ultimate zombie apocalypse so i would much rather in that case that we have these beings which can really appreciate how amazing it is and in that picture what would be the role of creativity a few people ask about creativity when you think about intelligence certainly the story you told at the beginning of your book involved creating movies and so on making money you can make a lot of money in our modern world with music and movies so if you are an intelligent system you may want to get good at that but thats not necessarily what i mean by creativity is it important on that complex goals where the sea is rising for there to be something creative or am i being very human centric and thinking creativity somehow special relative to intelligence my hunch is that we should think of creativity simply as an aspect of intelligence and we have to be very careful with human vanity we have this tendency to very often want to say as soon as machines can do something we try to diminish it and say oh but thats not real intelligence isnt it creative or this or that the other thing if we ask ourselves to write down a definition of what we actually mean by being creative what we mean by andrew wiles what he did there for example dont we often mean that someone takes a very unexpected leap its not like taking 573 and multiplying it by 224 by just a step of straightforward cookbook like rules right you can maybe make a connection between two things that people had never thought was connected or something like that i think this is an aspect of intelligence and this is actually one of the most important aspects of it maybe the reason we humans tend to be better at it than traditional computers is because its something that comes more naturally if youre a neural network than if youre a traditional logic gate based computer machine we physically have all these connections and you activate here activate here activate here bing my hunch is that if we ever build a machine where you could just give it the task hey you say hey i just realized i want to travel around the world instead this month can you teach my agi course for me and its like ok ill do it and it does everything that you would have done and improvises and stuff that would in my mind involve a lot of creativity yeah so its actually a beautiful way to put it i think we do try to grasp at the definition of intelligence is everything we dont understand how to build so we as humans try to find things that we have and machines dont have and maybe creativity is just one of the things one of the words we use to describe that thats a really interesting way to put it i dont think we need to be that defensive i dont think anything good comes out of saying well were somehow special you know contrary wise there are many examples in history of where trying to pretend that were somehow superior to all other intelligent beings has led to pretty bad results right nazi germany they said that they were somehow superior to other people today we still do a lot of cruelty to animals by saying that were so superior somehow and they cant feel pain slavery was justified by the same kind of just really weak arguments and i dont think if we actually go ahead and build artificial general intelligence it can do things better than us i dont think we should try to found our self worth on some sort of bogus claims of superiority in terms of our intelligence i think we should instead find our calling and the meaning of life from the experiences that we have i can have very meaningful experiences even if there are other people who are smarter than me when i go to a faculty meeting here and we talk about something and then i certainly realize oh boy he has an old prize he has an old prize he has an old prize i dont have one does that make me enjoy life any less or enjoy talking to those people less of course not and the contrary i feel very honored and privileged to get to interact with other very intelligent beings that are better than me at a lot of stuff so i dont think theres any reason why we cant have the same approach with intelligent machines thats a really interesting so people dont often think about that they think about when theres going if theres machines that are more intelligent you naturally think that thats not going to be a beneficial type of intelligence you dont realize it could be like peers with nobel prizes that would be just fun to talk with and they might be clever about certain topics and you can have fun having a few drinks with them well also another example we can all relate to of why it doesnt have to be a terrible thing to be in the presence of people who are even smarter than us all around is when you and i were both two years old i mean our parents were much more intelligent than us right worked out ok because their goals were aligned with our goals and that i think is really the number one key issue we have to solve if we value align the value alignment problem exactly because people who see too many hollywood movies with lousy science fiction plot lines they worry about the wrong thing right they worry about some machine suddenly turning evil its not malice that is the concern its competence by definition intelligent makes you very competent if you have a more intelligent goal playing computer playing is a less intelligent one and when we define intelligence as the ability to accomplish goal winning its going to be the more intelligent one that wins and if you have a human and then you have an agi thats more intelligent in all ways and they have different goals guess whos going to get their way right so i was just reading about this particular rhinoceros species that was driven extinct just a few years ago ellen bummer is looking at this cute picture of a mommy rhinoceros with its child and why did we humans drive it to extinction it wasnt because we were evil rhino haters as a whole it was just because our goals werent aligned with those of the rhinoceros and it didnt work out so well for the rhinoceros because we were more intelligent right so i think its just so important that if we ever do build agi before we unleash anything we have to make sure that it learns to understand our goals that it adopts our goals and that it retains those goals so the cool interesting problem there is us as human beings trying to formulate our values so you could think of the united states constitution as a way that people sat down at the time a bunch of white men which is a good example i should say they formulated the goals for this country and a lot of people agree that those goals actually held up pretty well thats an interesting formulation of values and failed miserably in other ways so for the value alignment problem and the solution to it we have to be able to put on paper or in a program human values how difficult do you think that is very but its so important we really have to give it our best and its difficult for two separate reasons theres the technical value alignment problem of figuring out just how to make machines understand our goals adopt them and retain them and then theres the separate part of it the philosophical part whose values anyway and since its not like we have any great consensus on this planet on values what mechanism should we create then to aggregate and decide ok whats a good compromise that second discussion cant just be left to tech nerds like myself and if we refuse to talk about it and then agi gets built whos going to be actually making the decision about whose values its going to be a bunch of dudes in some tech company and are they necessarily so representative of all of humankind that we want to just entrust it to them are they even uniquely qualified to speak to future human happiness just because theyre good at programming ai id much rather have this be a really inclusive conversation but do you think its possible so you create a beautiful vision that includes the diversity cultural diversity and various perspectives on discussing rights freedoms human dignity but how hard is it to come to that consensus do you think its certainly a really important thing that we should all try to do but do you think its feasible i think theres no better way to guarantee failure than to refuse to talk about it or refuse to try and i also think its a really bad strategy to say ok lets first have a discussion for a long time and then once we reach complete consensus then well try to load it into some machine no we shouldnt let perfect be the enemy of good instead we should start with the kindergarten ethics that pretty much everybody agrees on and put that into machines now were not doing that even look at anyone who builds this passenger aircraft wants it to never under any circumstances fly into a building or a mountain yet the september 11 hijackers were able to do that and even more embarrassingly andreas lubitz this depressed germanwings pilot when he flew his passenger jet into the alps killing over 100 people he just told the autopilot to do it he told the freaking computer to change the altitude to 100 meters and even though it had the gps maps everything the computer was like ok so we should take those very basic values where the problem is not that we dont agree the problem is just weve been too lazy to try to put it into our machines and make sure that from now on airplanes will just which all have computers in them but will just refuse to do something like that go into safe mode maybe lock the cockpit door go over to the nearest airport and theres so much other technology in our world as well now where its really becoming quite timely to put in some sort of very basic values like this even in cars weve had enough vehicle terrorism attacks by now where people have driven trucks and vans into pedestrians that its not at all a crazy idea to just have that hardwired into the car because yeah there are a lot of theres always going to be people who for some reason want to harm others but most of those people dont have the technical expertise to figure out how to work around something like that so if the car just wont do it it helps so lets start there so theres a lot of thats a great point so not chasing perfect theres a lot of things that most of the world agrees on yeah lets start there lets start there and then once we start there well also get into the habit of having these kind of conversations about okay what else should we put in here and have these discussions this should be a gradual process then great so but that also means describing these things and describing it to a machine so one thing we had a few conversations with stephen wolfram im not sure if youre familiar with stephen oh yeah i know him quite well so he is he works with a bunch of things but cellular automata these simple computable things these computation systems and he kind of mentioned that we probably have already within these systems already something thats agi meaning like we just dont know it because we cant talk to it so if you give me this chance to try to at least form a question out of this is i think its an interesting idea to think that we can have intelligent systems but we dont know how to describe something to them and they cant communicate with us i know youre doing a little bit of work in explainable ai trying to get ai to explain itself so what are your thoughts of natural language processing or some kind of other communication how does the ai explain something to us how do we explain something to it to machines or you think of it differently so there are two separate parts to your question there one of them has to do with communication which is super interesting ill get to that in a sec the other is whether we already have agi but we just havent noticed it there right there i beg to differ i dont think theres anything in any cellular automaton or anything or the internet itself or whatever that has artificial general intelligence and that it can really do exactly everything we humans can do better i think the day that happens when that happens we will very soon notice well probably notice even before because in a very very big way but for the second part though wait can i ask sorry so because you have this beautiful way to formulating consciousness as information processing and you can think of intelligence as information processing and you can think of the entire universe as these particles and these systems roaming around that have this information processing power you dont think there is something with the power to process information in the way that we human beings do thats out there that needs to be sort of connected to it seems a little bit philosophical perhaps but theres something compelling to the idea that the power is already there which the focus should be more on being able to communicate with it well i agree that in a certain sense the hardware processing power is already out there because our universe itself can think of it as being a computer already right its constantly computing what water waves how it devolved the water waves in the river charles and how to move the air molecules around seth lloyd has pointed out my colleague here that you can even in a very rigorous way think of our entire universe as being a quantum computer its pretty clear that our universe supports this amazing processing power because you can even within this physics computer that we live in right we can even build actual laptops and stuff so clearly the power is there its just that most of the compute power that nature has its in my opinion kind of wasting on boring stuff like simulating yet another ocean wave somewhere where no one is even looking right so in a sense what life does what we are doing when we build computers is were rechanneling all this compute that nature is doing anyway into doing things that are more interesting than just yet another ocean wave and lets do something cool here so the raw hardware power is there for sure but then even just computing whats going to happen for the next five seconds in this water bottle takes a ridiculous amount of compute if you do it on a human computer this water bottle just did it but that does not mean that this water bottle has agi because agi means it should also be able to like ive written my book done this interview and i dont think its just communication problems i dont really think it can do it although buddhists say when they watch the water and that there is some beauty that theres some depth and beauty in nature that they can communicate with communication is also very important though because i mean look part of my job is being a teacher and i know some very intelligent professors even who just have a bit of hard time communicating they come up with all these brilliant ideas but to communicate with somebody else you have to also be able to simulate their own mind yes empathy build well enough and understand model of their mind that you can say things that they will understand and thats quite difficult and thats why today its so frustrating if you have a computer that makes some cancer diagnosis and you ask it well why are you saying i should have this surgery and if it can only reply i was trained on five terabytes of data and this is my diagnosis boop boop beep beep it doesnt really instill a lot of confidence right so i think we have a lot of work to do on communication there so what kind of i think youre doing a little bit of work in explainable ai what do you think are the most promising avenues is it mostly about sort of the alexa problem of natural language processing of being able to actually use human interpretable methods of communication so being able to talk to a system and it talk back to you or is there some more fundamental problems to be solved i think its all of the above the natural language processing is obviously important but there are also more nerdy fundamental problems like if you take you play chess of course im russian i have to you speak russian yes i speak russian excellent i didnt know when did you learn russian i speak very bad russian im only an autodidact but i bought a book teach yourself russian read a lot but it was very difficult wow thats why i speak so bad how many languages do you know wow thats really impressive i dont know my wife has some calculation but my point was if you play chess have you looked at the alphazero games the actual games no check it out some of them are just mind blowing really beautiful and if you ask how did it do that you go talk to demis hassabis i know others from deepmind all theyll ultimately be able to give you is big tables of numbers matrices that define the neural network and you can stare at these tables of numbers till your face turn blue and youre not gonna understand much about why it made that move and even if you have natural language processing that can tell you in human language about oh five seven points two eight still not gonna really help so i think theres a whole spectrum of fun challenges that are involved in taking a computation that does intelligent things and transforming it into something equally good equally intelligent but thats more understandable and i think thats really valuable because i think as we put machines in charge of ever more infrastructure in our world the power grid the trading on the stock market weapon systems and so on its absolutely crucial that we can trust these ais to do all we want and trust really comes from understanding in a very fundamental way and thats why im working on this because i think the more if were gonna have some hope of ensuring that machines have adopted our goals and that theyre gonna retain them that kind of trust i think needs to be based on things you can actually understand preferably even improve theorems on even with a self driving car right if someone just tells you its been trained on tons of data and it never crashed its less reassuring than if someone actually has a proof maybe its a computer verified proof but still it says that under no circumstances is this car just gonna swerve into oncoming traffic and that kind of information helps to build trust and helps build the alignment of goals at least awareness that your goals your values are aligned and i think even in the very short term if you look at how you know today right this absolutely pathetic state of cybersecurity that we have where is it three billion yahoo accounts we cant pack almost every americans credit card and so on why is this happening its ultimately happening because we have software that nobody fully understood how it worked thats why the bugs hadnt been found right and i think ai can be used very effectively for offense for hacking but it can also be used for defense hopefully automating verifiability and creating systems that are built in different ways so you can actually prove things about them and its important so speaking of software that nobody understands how it works of course a bunch of people ask about your paper about your thoughts of why does deep and cheap learning work so well thats the paper but what are your thoughts on deep learning these kind of simplified models of our own brains have been able to do some successful perception work pattern recognition work and now with alphazero and so on do some clever things what are your thoughts about the promise limitations of this piece great i think there are a number of very important insights very important lessons we can always draw from these kinds of successes one of them is when you look at the human brain you see its very complicated 10th of 11 neurons and there are all these different kinds of neurons and yada yada and theres been this long debate about whether the fact that we have dozens of different kinds is actually necessary for intelligence']\n"
     ]
    }
   ],
   "execution_count": 37
  },
  {
   "metadata": {
    "ExecuteTime": {
     "end_time": "2024-08-04T07:54:20.616095Z",
     "start_time": "2024-08-04T07:54:20.604805Z"
    }
   },
   "cell_type": "code",
   "source": [
    "df['text_nopunct'] = corpus_nopunct\n",
    "print(df.head())"
   ],
   "id": "1beee01e886729cd",
   "outputs": [
    {
     "name": "stdout",
     "output_type": "stream",
     "text": [
      "   id            guest                    title  \\\n",
      "0   1      Max Tegmark                 Life 3.0   \n",
      "1   2    Christof Koch            Consciousness   \n",
      "2   3    Steven Pinker  AI in the Age of Reason   \n",
      "3   4    Yoshua Bengio            Deep Learning   \n",
      "4   5  Vladimir Vapnik     Statistical Learning   \n",
      "\n",
      "                                                text  \\\n",
      "0  As part of MIT course 6S099, Artificial Genera...   \n",
      "1  As part of MIT course 6S099 on artificial gene...   \n",
      "2  You've studied the human mind, cognition, lang...   \n",
      "3  What difference between biological neural netw...   \n",
      "4  The following is a conversation with Vladimir ...   \n",
      "\n",
      "                                        text_nopunct  \n",
      "0  as part of mit course 6s099 artificial general...  \n",
      "1  as part of mit course 6s099 on artificial gene...  \n",
      "2  youve studied the human mind cognition languag...  \n",
      "3  what difference between biological neural netw...  \n",
      "4  the following is a conversation with vladimir ...  \n"
     ]
    }
   ],
   "execution_count": 38
  },
  {
   "metadata": {},
   "cell_type": "markdown",
   "source": "### Stopwords",
   "id": "124fbd04404cf92c"
  },
  {
   "metadata": {
    "ExecuteTime": {
     "end_time": "2024-08-04T07:54:20.626191Z",
     "start_time": "2024-08-04T07:54:20.618409Z"
    }
   },
   "cell_type": "code",
   "source": [
    "from nltk.corpus import stopwords\n",
    "\n",
    "stopw = set(stopwords.words('english'))\n",
    "print(len(stopw))"
   ],
   "id": "fb55f8afe1dae072",
   "outputs": [
    {
     "name": "stdout",
     "output_type": "stream",
     "text": [
      "179\n"
     ]
    }
   ],
   "execution_count": 39
  },
  {
   "metadata": {
    "ExecuteTime": {
     "end_time": "2024-08-04T07:54:21.500484Z",
     "start_time": "2024-08-04T07:54:20.628337Z"
    }
   },
   "cell_type": "code",
   "source": [
    "text_no_stopwords = []\n",
    "\n",
    "for doc in corpus_nopunct:\n",
    "    clean_doc = []\n",
    "    doc_array = doc.split(' ')\n",
    "    for word in doc_array:\n",
    "        if word not in stopw:\n",
    "            clean_doc.append(word)\n",
    "\n",
    "    text_no_stopwords.append(' '.join(clean_doc))"
   ],
   "id": "d61262ff5c469ea4",
   "outputs": [],
   "execution_count": 40
  },
  {
   "metadata": {
    "ExecuteTime": {
     "end_time": "2024-08-04T07:54:21.509414Z",
     "start_time": "2024-08-04T07:54:21.507554Z"
    }
   },
   "cell_type": "code",
   "source": "print(len(text_no_stopwords))",
   "id": "387f122ab8d7c13b",
   "outputs": [
    {
     "name": "stdout",
     "output_type": "stream",
     "text": [
      "319\n"
     ]
    }
   ],
   "execution_count": 42
  },
  {
   "metadata": {
    "ExecuteTime": {
     "end_time": "2024-08-04T07:54:21.561777Z",
     "start_time": "2024-08-04T07:54:21.510055Z"
    }
   },
   "cell_type": "code",
   "source": [
    "df['text_no_stopwords'] = text_no_stopwords\n",
    "df"
   ],
   "id": "f1a305e7469584d0",
   "outputs": [
    {
     "data": {
      "text/plain": [
       "      id             guest                                              title  \\\n",
       "0      1       Max Tegmark                                           Life 3.0   \n",
       "1      2     Christof Koch                                      Consciousness   \n",
       "2      3     Steven Pinker                            AI in the Age of Reason   \n",
       "3      4     Yoshua Bengio                                      Deep Learning   \n",
       "4      5   Vladimir Vapnik                               Statistical Learning   \n",
       "..   ...               ...                                                ...   \n",
       "314  321      Ray Kurzweil    Singularity, Superintelligence, and Immortality   \n",
       "315  322  Rana el Kaliouby   Emotion AI, Social Robots, and Self-Driving Cars   \n",
       "316  323        Will Sasso  Comedy, MADtv, AI, Friendship, Madness, and Pr...   \n",
       "317  324   Daniel Negreanu                                              Poker   \n",
       "318  325     Michael Levin  Biology, Life, Aliens, Evolution, Embryogenesi...   \n",
       "\n",
       "                                                  text  \\\n",
       "0    As part of MIT course 6S099, Artificial Genera...   \n",
       "1    As part of MIT course 6S099 on artificial gene...   \n",
       "2    You've studied the human mind, cognition, lang...   \n",
       "3    What difference between biological neural netw...   \n",
       "4    The following is a conversation with Vladimir ...   \n",
       "..                                                 ...   \n",
       "314  By the time he gets to 2045, we'll be able to ...   \n",
       "315  there's a broader question here, right? As we ...   \n",
       "316  Once this whole thing falls apart and we are c...   \n",
       "317  you could be the seventh best player in the wh...   \n",
       "318  turns out that if you train a planarian and th...   \n",
       "\n",
       "                                          text_nopunct  \\\n",
       "0    as part of mit course 6s099 artificial general...   \n",
       "1    as part of mit course 6s099 on artificial gene...   \n",
       "2    youve studied the human mind cognition languag...   \n",
       "3    what difference between biological neural netw...   \n",
       "4    the following is a conversation with vladimir ...   \n",
       "..                                                 ...   \n",
       "314  by the time he gets to 2045 well be able to mu...   \n",
       "315  theres a broader question here right as we bui...   \n",
       "316  once this whole thing falls apart and we are c...   \n",
       "317  you could be the seventh best player in the wh...   \n",
       "318  turns out that if you train a planarian and th...   \n",
       "\n",
       "                                     text_no_stopwords  \n",
       "0    part mit course 6s099 artificial general intel...  \n",
       "1    part mit course 6s099 artificial general intel...  \n",
       "2    youve studied human mind cognition language vi...  \n",
       "3    difference biological neural networks artifici...  \n",
       "4    following conversation vladimir vapnik hes co ...  \n",
       "..                                                 ...  \n",
       "314  time gets 2045 well able multiply intelligence...  \n",
       "315  theres broader question right build socially e...  \n",
       "316  whole thing falls apart climbing kudzu vines s...  \n",
       "317  could seventh best player whole world like lit...  \n",
       "318  turns train planarian cut heads tail regenerat...  \n",
       "\n",
       "[319 rows x 6 columns]"
      ],
      "text/html": [
       "<div>\n",
       "<style scoped>\n",
       "    .dataframe tbody tr th:only-of-type {\n",
       "        vertical-align: middle;\n",
       "    }\n",
       "\n",
       "    .dataframe tbody tr th {\n",
       "        vertical-align: top;\n",
       "    }\n",
       "\n",
       "    .dataframe thead th {\n",
       "        text-align: right;\n",
       "    }\n",
       "</style>\n",
       "<table border=\"1\" class=\"dataframe\">\n",
       "  <thead>\n",
       "    <tr style=\"text-align: right;\">\n",
       "      <th></th>\n",
       "      <th>id</th>\n",
       "      <th>guest</th>\n",
       "      <th>title</th>\n",
       "      <th>text</th>\n",
       "      <th>text_nopunct</th>\n",
       "      <th>text_no_stopwords</th>\n",
       "    </tr>\n",
       "  </thead>\n",
       "  <tbody>\n",
       "    <tr>\n",
       "      <th>0</th>\n",
       "      <td>1</td>\n",
       "      <td>Max Tegmark</td>\n",
       "      <td>Life 3.0</td>\n",
       "      <td>As part of MIT course 6S099, Artificial Genera...</td>\n",
       "      <td>as part of mit course 6s099 artificial general...</td>\n",
       "      <td>part mit course 6s099 artificial general intel...</td>\n",
       "    </tr>\n",
       "    <tr>\n",
       "      <th>1</th>\n",
       "      <td>2</td>\n",
       "      <td>Christof Koch</td>\n",
       "      <td>Consciousness</td>\n",
       "      <td>As part of MIT course 6S099 on artificial gene...</td>\n",
       "      <td>as part of mit course 6s099 on artificial gene...</td>\n",
       "      <td>part mit course 6s099 artificial general intel...</td>\n",
       "    </tr>\n",
       "    <tr>\n",
       "      <th>2</th>\n",
       "      <td>3</td>\n",
       "      <td>Steven Pinker</td>\n",
       "      <td>AI in the Age of Reason</td>\n",
       "      <td>You've studied the human mind, cognition, lang...</td>\n",
       "      <td>youve studied the human mind cognition languag...</td>\n",
       "      <td>youve studied human mind cognition language vi...</td>\n",
       "    </tr>\n",
       "    <tr>\n",
       "      <th>3</th>\n",
       "      <td>4</td>\n",
       "      <td>Yoshua Bengio</td>\n",
       "      <td>Deep Learning</td>\n",
       "      <td>What difference between biological neural netw...</td>\n",
       "      <td>what difference between biological neural netw...</td>\n",
       "      <td>difference biological neural networks artifici...</td>\n",
       "    </tr>\n",
       "    <tr>\n",
       "      <th>4</th>\n",
       "      <td>5</td>\n",
       "      <td>Vladimir Vapnik</td>\n",
       "      <td>Statistical Learning</td>\n",
       "      <td>The following is a conversation with Vladimir ...</td>\n",
       "      <td>the following is a conversation with vladimir ...</td>\n",
       "      <td>following conversation vladimir vapnik hes co ...</td>\n",
       "    </tr>\n",
       "    <tr>\n",
       "      <th>...</th>\n",
       "      <td>...</td>\n",
       "      <td>...</td>\n",
       "      <td>...</td>\n",
       "      <td>...</td>\n",
       "      <td>...</td>\n",
       "      <td>...</td>\n",
       "    </tr>\n",
       "    <tr>\n",
       "      <th>314</th>\n",
       "      <td>321</td>\n",
       "      <td>Ray Kurzweil</td>\n",
       "      <td>Singularity, Superintelligence, and Immortality</td>\n",
       "      <td>By the time he gets to 2045, we'll be able to ...</td>\n",
       "      <td>by the time he gets to 2045 well be able to mu...</td>\n",
       "      <td>time gets 2045 well able multiply intelligence...</td>\n",
       "    </tr>\n",
       "    <tr>\n",
       "      <th>315</th>\n",
       "      <td>322</td>\n",
       "      <td>Rana el Kaliouby</td>\n",
       "      <td>Emotion AI, Social Robots, and Self-Driving Cars</td>\n",
       "      <td>there's a broader question here, right? As we ...</td>\n",
       "      <td>theres a broader question here right as we bui...</td>\n",
       "      <td>theres broader question right build socially e...</td>\n",
       "    </tr>\n",
       "    <tr>\n",
       "      <th>316</th>\n",
       "      <td>323</td>\n",
       "      <td>Will Sasso</td>\n",
       "      <td>Comedy, MADtv, AI, Friendship, Madness, and Pr...</td>\n",
       "      <td>Once this whole thing falls apart and we are c...</td>\n",
       "      <td>once this whole thing falls apart and we are c...</td>\n",
       "      <td>whole thing falls apart climbing kudzu vines s...</td>\n",
       "    </tr>\n",
       "    <tr>\n",
       "      <th>317</th>\n",
       "      <td>324</td>\n",
       "      <td>Daniel Negreanu</td>\n",
       "      <td>Poker</td>\n",
       "      <td>you could be the seventh best player in the wh...</td>\n",
       "      <td>you could be the seventh best player in the wh...</td>\n",
       "      <td>could seventh best player whole world like lit...</td>\n",
       "    </tr>\n",
       "    <tr>\n",
       "      <th>318</th>\n",
       "      <td>325</td>\n",
       "      <td>Michael Levin</td>\n",
       "      <td>Biology, Life, Aliens, Evolution, Embryogenesi...</td>\n",
       "      <td>turns out that if you train a planarian and th...</td>\n",
       "      <td>turns out that if you train a planarian and th...</td>\n",
       "      <td>turns train planarian cut heads tail regenerat...</td>\n",
       "    </tr>\n",
       "  </tbody>\n",
       "</table>\n",
       "<p>319 rows × 6 columns</p>\n",
       "</div>"
      ]
     },
     "execution_count": 43,
     "metadata": {},
     "output_type": "execute_result"
    }
   ],
   "execution_count": 43
  },
  {
   "metadata": {},
   "cell_type": "markdown",
   "source": [
    "###  Step 4: Vector Space Representation - TF-IDF\n",
    "\n",
    "Create TF-IDF vector representations of the transcripts."
   ],
   "id": "6013be570d9dff4b"
  },
  {
   "metadata": {
    "ExecuteTime": {
     "end_time": "2024-08-04T07:54:22.957029Z",
     "start_time": "2024-08-04T07:54:21.567200Z"
    }
   },
   "cell_type": "code",
   "source": [
    "from sklearn.feature_extraction.text import TfidfVectorizer\n",
    "\n",
    "vectorizer = TfidfVectorizer()\n",
    "tfidf_matrix = vectorizer.fit_transform(df['text_no_stopwords'])"
   ],
   "id": "b34461a6c1c83d2a",
   "outputs": [],
   "execution_count": 44
  },
  {
   "metadata": {},
   "cell_type": "code",
   "source": "query = \"Computer Science\"",
   "id": "9f1f95eeeb148a77",
   "outputs": [],
   "execution_count": 45
  },
  {
   "metadata": {},
   "cell_type": "code",
   "source": "query_vector = vectorizer.transform([query])",
   "id": "81a3d291046c77f4",
   "outputs": [],
   "execution_count": 46
  },
  {
   "metadata": {
    "ExecuteTime": {
     "end_time": "2024-08-04T07:54:22.988624Z",
     "start_time": "2024-08-04T07:54:22.979619Z"
    }
   },
   "cell_type": "code",
   "source": [
    "from sklearn.metrics.pairwise import cosine_similarity\n",
    "\n",
    "similarities = cosine_similarity(tfidf_matrix, query_vector)\n",
    "similarities"
   ],
   "id": "455342614a19290f",
   "outputs": [
    {
     "data": {
      "text/plain": [
       "array([[0.04507994],\n",
       "       [0.0727281 ],\n",
       "       [0.01451431],\n",
       "       [0.05681495],\n",
       "       [0.02340847],\n",
       "       [0.05354464],\n",
       "       [0.02846494],\n",
       "       [0.03237011],\n",
       "       [0.0169459 ],\n",
       "       [0.00614624],\n",
       "       [0.02421822],\n",
       "       [0.00593825],\n",
       "       [0.07372364],\n",
       "       [0.01775848],\n",
       "       [0.01775848],\n",
       "       [0.07208534],\n",
       "       [0.01616015],\n",
       "       [0.0054441 ],\n",
       "       [0.04327091],\n",
       "       [0.00503707],\n",
       "       [0.00667508],\n",
       "       [0.01006973],\n",
       "       [0.        ],\n",
       "       [0.02116541],\n",
       "       [0.10470165],\n",
       "       [0.01085762],\n",
       "       [0.06837741],\n",
       "       [0.01049236],\n",
       "       [0.00295929],\n",
       "       [0.00373142],\n",
       "       [0.00665419],\n",
       "       [0.01236771],\n",
       "       [0.02354847],\n",
       "       [0.        ],\n",
       "       [0.06939767],\n",
       "       [0.00935121],\n",
       "       [0.02700536],\n",
       "       [0.037525  ],\n",
       "       [0.07715644],\n",
       "       [0.03107165],\n",
       "       [0.07983962],\n",
       "       [0.08368498],\n",
       "       [0.02933174],\n",
       "       [0.03290134],\n",
       "       [0.02826904],\n",
       "       [0.04788385],\n",
       "       [0.01707148],\n",
       "       [0.01457681],\n",
       "       [0.02000268],\n",
       "       [0.05031207],\n",
       "       [0.06876471],\n",
       "       [0.01539101],\n",
       "       [0.02251366],\n",
       "       [0.07469056],\n",
       "       [0.02990532],\n",
       "       [0.        ],\n",
       "       [0.04266281],\n",
       "       [0.00873188],\n",
       "       [0.0381895 ],\n",
       "       [0.04427477],\n",
       "       [0.04785652],\n",
       "       [0.01908826],\n",
       "       [0.08766278],\n",
       "       [0.00685151],\n",
       "       [0.01699642],\n",
       "       [0.00664813],\n",
       "       [0.00748734],\n",
       "       [0.00494845],\n",
       "       [0.02003309],\n",
       "       [0.01463829],\n",
       "       [0.10809464],\n",
       "       [0.00952252],\n",
       "       [0.09779602],\n",
       "       [0.02752525],\n",
       "       [0.03825222],\n",
       "       [0.04623131],\n",
       "       [0.0638925 ],\n",
       "       [0.03628049],\n",
       "       [0.10164823],\n",
       "       [0.07035186],\n",
       "       [0.01913579],\n",
       "       [0.01454421],\n",
       "       [0.00334697],\n",
       "       [0.04500566],\n",
       "       [0.00498602],\n",
       "       [0.03200649],\n",
       "       [0.05229022],\n",
       "       [0.08856121],\n",
       "       [0.00457201],\n",
       "       [0.05198165],\n",
       "       [0.03093095],\n",
       "       [0.02024385],\n",
       "       [0.01442709],\n",
       "       [0.01915131],\n",
       "       [0.02421847],\n",
       "       [0.06511156],\n",
       "       [0.08019663],\n",
       "       [0.00732022],\n",
       "       [0.00668189],\n",
       "       [0.02150666],\n",
       "       [0.02629883],\n",
       "       [0.00728166],\n",
       "       [0.02886169],\n",
       "       [0.07875985],\n",
       "       [0.0480159 ],\n",
       "       [0.02833568],\n",
       "       [0.01457193],\n",
       "       [0.02154191],\n",
       "       [0.0318832 ],\n",
       "       [0.11099388],\n",
       "       [0.07100498],\n",
       "       [0.03846595],\n",
       "       [0.04709222],\n",
       "       [0.013886  ],\n",
       "       [0.03402037],\n",
       "       [0.01273718],\n",
       "       [0.00918951],\n",
       "       [0.01160225],\n",
       "       [0.0322608 ],\n",
       "       [0.01571395],\n",
       "       [0.00817097],\n",
       "       [0.00659069],\n",
       "       [0.00907202],\n",
       "       [0.04669305],\n",
       "       [0.00221089],\n",
       "       [0.04088074],\n",
       "       [0.        ],\n",
       "       [0.01153691],\n",
       "       [0.01257697],\n",
       "       [0.06038583],\n",
       "       [0.01609496],\n",
       "       [0.00707159],\n",
       "       [0.02144742],\n",
       "       [0.01010507],\n",
       "       [0.0579231 ],\n",
       "       [0.00231764],\n",
       "       [0.02725406],\n",
       "       [0.01909944],\n",
       "       [0.01484595],\n",
       "       [0.02635367],\n",
       "       [0.01910759],\n",
       "       [0.01745128],\n",
       "       [0.00081118],\n",
       "       [0.06677337],\n",
       "       [0.01802552],\n",
       "       [0.00433037],\n",
       "       [0.01877696],\n",
       "       [0.0526775 ],\n",
       "       [0.01686745],\n",
       "       [0.00237358],\n",
       "       [0.00896942],\n",
       "       [0.01988489],\n",
       "       [0.02269021],\n",
       "       [0.03928445],\n",
       "       [0.04532328],\n",
       "       [0.        ],\n",
       "       [0.02608682],\n",
       "       [0.01272406],\n",
       "       [0.00672453],\n",
       "       [0.01378004],\n",
       "       [0.00666738],\n",
       "       [0.03594974],\n",
       "       [0.01939415],\n",
       "       [0.03039039],\n",
       "       [0.0011198 ],\n",
       "       [0.03315971],\n",
       "       [0.00164728],\n",
       "       [0.0186177 ],\n",
       "       [0.00235947],\n",
       "       [0.00853828],\n",
       "       [0.00322383],\n",
       "       [0.00629709],\n",
       "       [0.01136332],\n",
       "       [0.01647527],\n",
       "       [0.00755798],\n",
       "       [0.00996459],\n",
       "       [0.02972815],\n",
       "       [0.00450268],\n",
       "       [0.00662963],\n",
       "       [0.00352466],\n",
       "       [0.00367141],\n",
       "       [0.03098229],\n",
       "       [0.03644637],\n",
       "       [0.01844379],\n",
       "       [0.00860918],\n",
       "       [0.01833624],\n",
       "       [0.02107748],\n",
       "       [0.01364411],\n",
       "       [0.01915665],\n",
       "       [0.01849403],\n",
       "       [0.01518795],\n",
       "       [0.02775337],\n",
       "       [0.0136715 ],\n",
       "       [0.02730734],\n",
       "       [0.03456172],\n",
       "       [0.00345311],\n",
       "       [0.00281071],\n",
       "       [0.01233889],\n",
       "       [0.00117778],\n",
       "       [0.        ],\n",
       "       [0.02321325],\n",
       "       [0.00552011],\n",
       "       [0.01014263],\n",
       "       [0.02533604],\n",
       "       [0.00259002],\n",
       "       [0.02404362],\n",
       "       [0.03034128],\n",
       "       [0.05381175],\n",
       "       [0.02302919],\n",
       "       [0.03451752],\n",
       "       [0.01991213],\n",
       "       [0.0465428 ],\n",
       "       [0.04937729],\n",
       "       [0.00968833],\n",
       "       [0.01701063],\n",
       "       [0.04719554],\n",
       "       [0.0331275 ],\n",
       "       [0.10061688],\n",
       "       [0.00750757],\n",
       "       [0.02906537],\n",
       "       [0.03717112],\n",
       "       [0.00050206],\n",
       "       [0.02676199],\n",
       "       [0.01568709],\n",
       "       [0.01878708],\n",
       "       [0.0138989 ],\n",
       "       [0.0046424 ],\n",
       "       [0.00416234],\n",
       "       [0.00222808],\n",
       "       [0.00802008],\n",
       "       [0.01947939],\n",
       "       [0.01032029],\n",
       "       [0.02605596],\n",
       "       [0.00453295],\n",
       "       [0.00079689],\n",
       "       [0.01372297],\n",
       "       [0.10554842],\n",
       "       [0.02901659],\n",
       "       [0.01472889],\n",
       "       [0.00707743],\n",
       "       [0.        ],\n",
       "       [0.00482239],\n",
       "       [0.00215977],\n",
       "       [0.00190038],\n",
       "       [0.02616541],\n",
       "       [0.02302874],\n",
       "       [0.00169007],\n",
       "       [0.03883336],\n",
       "       [0.01415213],\n",
       "       [0.00437692],\n",
       "       [0.01431829],\n",
       "       [0.00869654],\n",
       "       [0.03818735],\n",
       "       [0.00086006],\n",
       "       [0.00673949],\n",
       "       [0.04203354],\n",
       "       [0.02744625],\n",
       "       [0.00367687],\n",
       "       [0.00235699],\n",
       "       [0.04650626],\n",
       "       [0.05007884],\n",
       "       [0.02131568],\n",
       "       [0.00944061],\n",
       "       [0.        ],\n",
       "       [0.00276887],\n",
       "       [0.00570529],\n",
       "       [0.06125786],\n",
       "       [0.01444774],\n",
       "       [0.01722512],\n",
       "       [0.01054021],\n",
       "       [0.00714144],\n",
       "       [0.00806399],\n",
       "       [0.00227581],\n",
       "       [0.01214968],\n",
       "       [0.02029914],\n",
       "       [0.0009946 ],\n",
       "       [0.02026569],\n",
       "       [0.01469065],\n",
       "       [0.00987393],\n",
       "       [0.00362006],\n",
       "       [0.00610651],\n",
       "       [0.00535361],\n",
       "       [0.00050653],\n",
       "       [0.        ],\n",
       "       [0.00248318],\n",
       "       [0.02807863],\n",
       "       [0.03063591],\n",
       "       [0.01054367],\n",
       "       [0.00210224],\n",
       "       [0.00724051],\n",
       "       [0.02792312],\n",
       "       [0.00228663],\n",
       "       [0.04473269],\n",
       "       [0.00123992],\n",
       "       [0.00432103],\n",
       "       [0.03354831],\n",
       "       [0.00442528],\n",
       "       [0.00747256],\n",
       "       [0.04391917],\n",
       "       [0.01421825],\n",
       "       [0.01199059],\n",
       "       [0.01753573],\n",
       "       [0.01326593],\n",
       "       [0.0111606 ],\n",
       "       [0.00282586],\n",
       "       [0.00189071],\n",
       "       [0.01356744],\n",
       "       [0.0088438 ],\n",
       "       [0.00835176],\n",
       "       [0.        ],\n",
       "       [0.02400297],\n",
       "       [0.01686025],\n",
       "       [0.01266203],\n",
       "       [0.00404808],\n",
       "       [0.03615702],\n",
       "       [0.01863521],\n",
       "       [0.00094482],\n",
       "       [0.00339662],\n",
       "       [0.03031179]])"
      ]
     },
     "execution_count": 47,
     "metadata": {},
     "output_type": "execute_result"
    }
   ],
   "execution_count": 47
  },
  {
   "metadata": {
    "ExecuteTime": {
     "end_time": "2024-08-04T07:54:22.993817Z",
     "start_time": "2024-08-04T07:54:22.989297Z"
    }
   },
   "cell_type": "code",
   "source": [
    "similarities_df = pd.DataFrame(similarities, columns=[\"similarity\"])\n",
    "similarities_df['title'] = df['title']"
   ],
   "id": "d9fc5a296399f18d",
   "outputs": [],
   "execution_count": 48
  },
  {
   "metadata": {
    "ExecuteTime": {
     "end_time": "2024-08-04T07:54:22.999778Z",
     "start_time": "2024-08-04T07:54:22.994449Z"
    }
   },
   "cell_type": "code",
   "source": "similarities_df",
   "id": "48320f94851e024c",
   "outputs": [
    {
     "data": {
      "text/plain": [
       "     similarity                                              title\n",
       "0      0.045080                                           Life 3.0\n",
       "1      0.072728                                      Consciousness\n",
       "2      0.014514                            AI in the Age of Reason\n",
       "3      0.056815                                      Deep Learning\n",
       "4      0.023408                               Statistical Learning\n",
       "..          ...                                                ...\n",
       "314    0.036157    Singularity, Superintelligence, and Immortality\n",
       "315    0.018635   Emotion AI, Social Robots, and Self-Driving Cars\n",
       "316    0.000945  Comedy, MADtv, AI, Friendship, Madness, and Pr...\n",
       "317    0.003397                                              Poker\n",
       "318    0.030312  Biology, Life, Aliens, Evolution, Embryogenesi...\n",
       "\n",
       "[319 rows x 2 columns]"
      ],
      "text/html": [
       "<div>\n",
       "<style scoped>\n",
       "    .dataframe tbody tr th:only-of-type {\n",
       "        vertical-align: middle;\n",
       "    }\n",
       "\n",
       "    .dataframe tbody tr th {\n",
       "        vertical-align: top;\n",
       "    }\n",
       "\n",
       "    .dataframe thead th {\n",
       "        text-align: right;\n",
       "    }\n",
       "</style>\n",
       "<table border=\"1\" class=\"dataframe\">\n",
       "  <thead>\n",
       "    <tr style=\"text-align: right;\">\n",
       "      <th></th>\n",
       "      <th>similarity</th>\n",
       "      <th>title</th>\n",
       "    </tr>\n",
       "  </thead>\n",
       "  <tbody>\n",
       "    <tr>\n",
       "      <th>0</th>\n",
       "      <td>0.045080</td>\n",
       "      <td>Life 3.0</td>\n",
       "    </tr>\n",
       "    <tr>\n",
       "      <th>1</th>\n",
       "      <td>0.072728</td>\n",
       "      <td>Consciousness</td>\n",
       "    </tr>\n",
       "    <tr>\n",
       "      <th>2</th>\n",
       "      <td>0.014514</td>\n",
       "      <td>AI in the Age of Reason</td>\n",
       "    </tr>\n",
       "    <tr>\n",
       "      <th>3</th>\n",
       "      <td>0.056815</td>\n",
       "      <td>Deep Learning</td>\n",
       "    </tr>\n",
       "    <tr>\n",
       "      <th>4</th>\n",
       "      <td>0.023408</td>\n",
       "      <td>Statistical Learning</td>\n",
       "    </tr>\n",
       "    <tr>\n",
       "      <th>...</th>\n",
       "      <td>...</td>\n",
       "      <td>...</td>\n",
       "    </tr>\n",
       "    <tr>\n",
       "      <th>314</th>\n",
       "      <td>0.036157</td>\n",
       "      <td>Singularity, Superintelligence, and Immortality</td>\n",
       "    </tr>\n",
       "    <tr>\n",
       "      <th>315</th>\n",
       "      <td>0.018635</td>\n",
       "      <td>Emotion AI, Social Robots, and Self-Driving Cars</td>\n",
       "    </tr>\n",
       "    <tr>\n",
       "      <th>316</th>\n",
       "      <td>0.000945</td>\n",
       "      <td>Comedy, MADtv, AI, Friendship, Madness, and Pr...</td>\n",
       "    </tr>\n",
       "    <tr>\n",
       "      <th>317</th>\n",
       "      <td>0.003397</td>\n",
       "      <td>Poker</td>\n",
       "    </tr>\n",
       "    <tr>\n",
       "      <th>318</th>\n",
       "      <td>0.030312</td>\n",
       "      <td>Biology, Life, Aliens, Evolution, Embryogenesi...</td>\n",
       "    </tr>\n",
       "  </tbody>\n",
       "</table>\n",
       "<p>319 rows × 2 columns</p>\n",
       "</div>"
      ]
     },
     "execution_count": 49,
     "metadata": {},
     "output_type": "execute_result"
    }
   ],
   "execution_count": 49
  },
  {
   "metadata": {},
   "cell_type": "markdown",
   "source": [
    "### Step 5: Vector Space Representation - BERT\n",
    "\n",
    "Create BERT vector representations of the transcripts using a pre-trained BERT model\n",
    "."
   ],
   "id": "56ae42bbd2d668f7"
  },
  {
   "metadata": {
    "ExecuteTime": {
     "end_time": "2024-08-04T07:54:26.845650Z",
     "start_time": "2024-08-04T07:54:23.000598Z"
    }
   },
   "cell_type": "code",
   "source": [
    "tokenizer = BertTokenizer.from_pretrained('bert-base-uncased')\n",
    "model = TFBertModel.from_pretrained('bert-base-uncased')"
   ],
   "id": "e609714bd8598d90",
   "outputs": [
    {
     "name": "stderr",
     "output_type": "stream",
     "text": [
      "Some weights of the PyTorch model were not used when initializing the TF 2.0 model TFBertModel: ['cls.predictions.transform.dense.bias', 'cls.predictions.transform.LayerNorm.bias', 'cls.predictions.bias', 'cls.predictions.transform.dense.weight', 'cls.seq_relationship.weight', 'cls.predictions.transform.LayerNorm.weight', 'cls.seq_relationship.bias']\n",
      "- This IS expected if you are initializing TFBertModel from a PyTorch model trained on another task or with another architecture (e.g. initializing a TFBertForSequenceClassification model from a BertForPreTraining model).\n",
      "- This IS NOT expected if you are initializing TFBertModel from a PyTorch model that you expect to be exactly identical (e.g. initializing a TFBertForSequenceClassification model from a BertForSequenceClassification model).\n",
      "All the weights of TFBertModel were initialized from the PyTorch model.\n",
      "If your task is similar to the task the model of the checkpoint was trained on, you can already use TFBertModel for predictions without further training.\n"
     ]
    }
   ],
   "execution_count": 50
  },
  {
   "metadata": {
    "ExecuteTime": {
     "end_time": "2024-08-04T07:54:26.851431Z",
     "start_time": "2024-08-04T07:54:26.846778Z"
    }
   },
   "cell_type": "code",
   "source": [
    "def generate_bert_embeddings(texts):\n",
    "    embeddings = []\n",
    "    start_time = time.time()\n",
    "    for i, text in enumerate(texts):\n",
    "        #for text in texts:\n",
    "        if i == 10:  # Mide el tiempo después de 10 textos como muestra\n",
    "            elapsed_time = time.time() - start_time\n",
    "            estimated_time = (elapsed_time / 10) * len(texts)\n",
    "            print(f\"Tiempo estimado para procesar el corpus completo: {estimated_time / 60:.2f} minutos\")\n",
    "\n",
    "        inputs = tokenizer(text, return_tensors='tf', padding=True, truncation=True)\n",
    "        outputs = model(**inputs)\n",
    "        embeddings.append(outputs.last_hidden_state[:, 0, :])  # Use [CLS] token representation\n",
    "    return np.array(embeddings).transpose(0, 2, 1)"
   ],
   "id": "88511af285519f14",
   "outputs": [],
   "execution_count": 51
  },
  {
   "metadata": {
    "ExecuteTime": {
     "end_time": "2024-08-04T07:58:08.997886Z",
     "start_time": "2024-08-04T07:54:26.852382Z"
    }
   },
   "cell_type": "code",
   "source": "corpus_bert = generate_bert_embeddings(corpus)",
   "id": "e832dcb4651cd544",
   "outputs": [
    {
     "name": "stdout",
     "output_type": "stream",
     "text": [
      "Tiempo estimado para procesar el corpus completo: 3.00 minutos\n"
     ]
    }
   ],
   "execution_count": 52
  },
  {
   "metadata": {
    "ExecuteTime": {
     "end_time": "2024-08-04T07:59:52.488594Z",
     "start_time": "2024-08-04T07:59:52.477576Z"
    }
   },
   "cell_type": "code",
   "source": "corpus.shape",
   "id": "f7c0c2ccf289c50a",
   "outputs": [
    {
     "data": {
      "text/plain": [
       "(319,)"
      ]
     },
     "execution_count": 61,
     "metadata": {},
     "output_type": "execute_result"
    }
   ],
   "execution_count": 61
  },
  {
   "metadata": {
    "ExecuteTime": {
     "end_time": "2024-08-04T08:00:20.356179Z",
     "start_time": "2024-08-04T08:00:20.079713Z"
    }
   },
   "cell_type": "code",
   "source": [
    "query = [\"Computer Science\"]\n",
    "query_bert = generate_bert_embeddings(query)"
   ],
   "id": "dd17a42f2a651842",
   "outputs": [],
   "execution_count": 62
  },
  {
   "metadata": {
    "ExecuteTime": {
     "end_time": "2024-08-04T08:00:22.640705Z",
     "start_time": "2024-08-04T08:00:22.633690Z"
    }
   },
   "cell_type": "code",
   "source": "query_bert.shape",
   "id": "b541028ff9464a0a",
   "outputs": [
    {
     "data": {
      "text/plain": [
       "(1, 768, 1)"
      ]
     },
     "execution_count": 63,
     "metadata": {},
     "output_type": "execute_result"
    }
   ],
   "execution_count": 63
  },
  {
   "metadata": {},
   "cell_type": "markdown",
   "source": [
    "### Step 6: Query Processing\n",
    "\n",
    "Define a function to process the query and compute similarity scores using both TF-IDF and BERT embeddings."
   ],
   "id": "c8cbf0838d4b0256"
  },
  {
   "metadata": {
    "ExecuteTime": {
     "end_time": "2024-08-04T07:58:10.022400Z",
     "start_time": "2024-08-04T07:58:10.016371Z"
    }
   },
   "cell_type": "code",
   "source": [
    "def retrieve_tfidf(query):\n",
    "    query_vector = vectorizer.transform([query])\n",
    "    similarities = cosine_similarity(tfidf_matrix, query_vector)\n",
    "    similarities_df = pd.DataFrame(similarities, columns=[\"similarity\"])\n",
    "    similarities_df['title'] = df['title']\n",
    "    return similarities_df"
   ],
   "id": "79d98d5c0b2f4aee",
   "outputs": [],
   "execution_count": 55
  },
  {
   "metadata": {
    "ExecuteTime": {
     "end_time": "2024-08-04T07:58:10.102532Z",
     "start_time": "2024-08-04T07:58:10.023444Z"
    }
   },
   "cell_type": "code",
   "source": "retrieve_tfidf(\"Artificial Intelligence\")",
   "id": "77b639095a956983",
   "outputs": [
    {
     "data": {
      "text/plain": [
       "     similarity                                              title\n",
       "0      0.101050                                           Life 3.0\n",
       "1      0.096279                                      Consciousness\n",
       "2      0.205319                            AI in the Age of Reason\n",
       "3      0.069249                                      Deep Learning\n",
       "4      0.063585                               Statistical Learning\n",
       "..          ...                                                ...\n",
       "314    0.024883    Singularity, Superintelligence, and Immortality\n",
       "315    0.018644   Emotion AI, Social Robots, and Self-Driving Cars\n",
       "316    0.004331  Comedy, MADtv, AI, Friendship, Madness, and Pr...\n",
       "317    0.001274                                              Poker\n",
       "318    0.027714  Biology, Life, Aliens, Evolution, Embryogenesi...\n",
       "\n",
       "[319 rows x 2 columns]"
      ],
      "text/html": [
       "<div>\n",
       "<style scoped>\n",
       "    .dataframe tbody tr th:only-of-type {\n",
       "        vertical-align: middle;\n",
       "    }\n",
       "\n",
       "    .dataframe tbody tr th {\n",
       "        vertical-align: top;\n",
       "    }\n",
       "\n",
       "    .dataframe thead th {\n",
       "        text-align: right;\n",
       "    }\n",
       "</style>\n",
       "<table border=\"1\" class=\"dataframe\">\n",
       "  <thead>\n",
       "    <tr style=\"text-align: right;\">\n",
       "      <th></th>\n",
       "      <th>similarity</th>\n",
       "      <th>title</th>\n",
       "    </tr>\n",
       "  </thead>\n",
       "  <tbody>\n",
       "    <tr>\n",
       "      <th>0</th>\n",
       "      <td>0.101050</td>\n",
       "      <td>Life 3.0</td>\n",
       "    </tr>\n",
       "    <tr>\n",
       "      <th>1</th>\n",
       "      <td>0.096279</td>\n",
       "      <td>Consciousness</td>\n",
       "    </tr>\n",
       "    <tr>\n",
       "      <th>2</th>\n",
       "      <td>0.205319</td>\n",
       "      <td>AI in the Age of Reason</td>\n",
       "    </tr>\n",
       "    <tr>\n",
       "      <th>3</th>\n",
       "      <td>0.069249</td>\n",
       "      <td>Deep Learning</td>\n",
       "    </tr>\n",
       "    <tr>\n",
       "      <th>4</th>\n",
       "      <td>0.063585</td>\n",
       "      <td>Statistical Learning</td>\n",
       "    </tr>\n",
       "    <tr>\n",
       "      <th>...</th>\n",
       "      <td>...</td>\n",
       "      <td>...</td>\n",
       "    </tr>\n",
       "    <tr>\n",
       "      <th>314</th>\n",
       "      <td>0.024883</td>\n",
       "      <td>Singularity, Superintelligence, and Immortality</td>\n",
       "    </tr>\n",
       "    <tr>\n",
       "      <th>315</th>\n",
       "      <td>0.018644</td>\n",
       "      <td>Emotion AI, Social Robots, and Self-Driving Cars</td>\n",
       "    </tr>\n",
       "    <tr>\n",
       "      <th>316</th>\n",
       "      <td>0.004331</td>\n",
       "      <td>Comedy, MADtv, AI, Friendship, Madness, and Pr...</td>\n",
       "    </tr>\n",
       "    <tr>\n",
       "      <th>317</th>\n",
       "      <td>0.001274</td>\n",
       "      <td>Poker</td>\n",
       "    </tr>\n",
       "    <tr>\n",
       "      <th>318</th>\n",
       "      <td>0.027714</td>\n",
       "      <td>Biology, Life, Aliens, Evolution, Embryogenesi...</td>\n",
       "    </tr>\n",
       "  </tbody>\n",
       "</table>\n",
       "<p>319 rows × 2 columns</p>\n",
       "</div>"
      ]
     },
     "execution_count": 56,
     "metadata": {},
     "output_type": "execute_result"
    }
   ],
   "execution_count": 56
  },
  {
   "metadata": {
    "ExecuteTime": {
     "end_time": "2024-08-04T07:58:10.105755Z",
     "start_time": "2024-08-04T07:58:10.103304Z"
    }
   },
   "cell_type": "code",
   "source": [
    "def retrieve_bert(query):\n",
    "    query_bert = generate_bert_embeddings(query)\n",
    "    similarities = cosine_similarity(corpus_bert.reshape(319, 768), query_bert.reshape(1, 768))\n",
    "    similarities_df = pd.DataFrame(similarities, columns=[\"similarity\"])\n",
    "    similarities_df['title'] = df['title']\n",
    "    return similarities_df"
   ],
   "id": "8934facf4d55b429",
   "outputs": [],
   "execution_count": 57
  },
  {
   "metadata": {
    "ExecuteTime": {
     "end_time": "2024-08-04T08:00:50.143954Z",
     "start_time": "2024-08-04T08:00:49.882825Z"
    }
   },
   "cell_type": "code",
   "source": "retrieve_bert([\"Artificial Intelligence\"])",
   "id": "8abe887dfc0bdd42",
   "outputs": [
    {
     "data": {
      "text/plain": [
       "     similarity                                                       title\n",
       "0      0.678347                                                    Life 3.0\n",
       "1      0.711803                                               Consciousness\n",
       "2      0.688676                                     AI in the Age of Reason\n",
       "3      0.629812                                               Deep Learning\n",
       "4      0.712927                                        Statistical Learning\n",
       "..          ...                                                         ...\n",
       "314    0.655902             Singularity, Superintelligence, and Immortality\n",
       "315    0.621022            Emotion AI, Social Robots, and Self-Driving Cars\n",
       "316    0.682716   Comedy, MADtv, AI, Friendship, Madness, and Pro Wrestling\n",
       "317    0.692973                                                       Poker\n",
       "318    0.692976  Biology, Life, Aliens, Evolution, Embryogenesis & Xenobots\n",
       "\n",
       "[319 rows x 2 columns]"
      ],
      "text/html": [
       "<div>\n",
       "<style scoped>\n",
       "    .dataframe tbody tr th:only-of-type {\n",
       "        vertical-align: middle;\n",
       "    }\n",
       "\n",
       "    .dataframe tbody tr th {\n",
       "        vertical-align: top;\n",
       "    }\n",
       "\n",
       "    .dataframe thead th {\n",
       "        text-align: right;\n",
       "    }\n",
       "</style>\n",
       "<table border=\"1\" class=\"dataframe\">\n",
       "  <thead>\n",
       "    <tr style=\"text-align: right;\">\n",
       "      <th></th>\n",
       "      <th>similarity</th>\n",
       "      <th>title</th>\n",
       "    </tr>\n",
       "  </thead>\n",
       "  <tbody>\n",
       "    <tr>\n",
       "      <th>0</th>\n",
       "      <td>0.678347</td>\n",
       "      <td>Life 3.0</td>\n",
       "    </tr>\n",
       "    <tr>\n",
       "      <th>1</th>\n",
       "      <td>0.711803</td>\n",
       "      <td>Consciousness</td>\n",
       "    </tr>\n",
       "    <tr>\n",
       "      <th>2</th>\n",
       "      <td>0.688676</td>\n",
       "      <td>AI in the Age of Reason</td>\n",
       "    </tr>\n",
       "    <tr>\n",
       "      <th>3</th>\n",
       "      <td>0.629812</td>\n",
       "      <td>Deep Learning</td>\n",
       "    </tr>\n",
       "    <tr>\n",
       "      <th>4</th>\n",
       "      <td>0.712927</td>\n",
       "      <td>Statistical Learning</td>\n",
       "    </tr>\n",
       "    <tr>\n",
       "      <th>...</th>\n",
       "      <td>...</td>\n",
       "      <td>...</td>\n",
       "    </tr>\n",
       "    <tr>\n",
       "      <th>314</th>\n",
       "      <td>0.655902</td>\n",
       "      <td>Singularity, Superintelligence, and Immortality</td>\n",
       "    </tr>\n",
       "    <tr>\n",
       "      <th>315</th>\n",
       "      <td>0.621022</td>\n",
       "      <td>Emotion AI, Social Robots, and Self-Driving Cars</td>\n",
       "    </tr>\n",
       "    <tr>\n",
       "      <th>316</th>\n",
       "      <td>0.682716</td>\n",
       "      <td>Comedy, MADtv, AI, Friendship, Madness, and Pro Wrestling</td>\n",
       "    </tr>\n",
       "    <tr>\n",
       "      <th>317</th>\n",
       "      <td>0.692973</td>\n",
       "      <td>Poker</td>\n",
       "    </tr>\n",
       "    <tr>\n",
       "      <th>318</th>\n",
       "      <td>0.692976</td>\n",
       "      <td>Biology, Life, Aliens, Evolution, Embryogenesis &amp; Xenobots</td>\n",
       "    </tr>\n",
       "  </tbody>\n",
       "</table>\n",
       "<p>319 rows × 2 columns</p>\n",
       "</div>"
      ]
     },
     "execution_count": 64,
     "metadata": {},
     "output_type": "execute_result"
    }
   ],
   "execution_count": 64
  },
  {
   "metadata": {},
   "cell_type": "markdown",
   "source": [
    "\n",
    "### Step 7: Retrieve and Compare Results\n",
    "\n",
    "Define a function to retrieve the top results based on similarity scores for both TF-IDF and BERT representations."
   ],
   "id": "96af54727be7c767"
  },
  {
   "metadata": {
    "ExecuteTime": {
     "end_time": "2024-08-04T07:59:11.175144Z",
     "start_time": "2024-08-04T07:59:11.153991Z"
    }
   },
   "cell_type": "code",
   "source": [
    "def sort_by_similarity(query):\n",
    "    sorted_similarity = query.sort_values(by='similarity', ascending=False)\n",
    "    return sorted_similarity"
   ],
   "id": "239b224ce9909712",
   "outputs": [],
   "execution_count": 59
  },
  {
   "metadata": {},
   "cell_type": "markdown",
   "source": [
    "### Step 8: Test the IR System\n",
    "\n",
    "Test the system with a sample query.\n",
    "\n",
    "Retrieve and display the top results using both TF-IDF and BERT representations."
   ],
   "id": "f08ece6740cc08e8"
  },
  {
   "metadata": {},
   "cell_type": "markdown",
   "source": "#### Top Results TF-IDF",
   "id": "9104cd25d77aae62"
  },
  {
   "metadata": {
    "ExecuteTime": {
     "end_time": "2024-08-04T07:59:13.387263Z",
     "start_time": "2024-08-04T07:59:13.354446Z"
    }
   },
   "cell_type": "code",
   "source": [
    "tfidf_result_df = retrieve_tfidf(\"Artificial Intelligence\")\n",
    "\n",
    "sorted_tfidf_df = sort_by_similarity(tfidf_result_df)\n",
    "print(sorted_tfidf_df[:10])"
   ],
   "id": "b109aa6d3ff90548",
   "outputs": [
    {
     "name": "stdout",
     "output_type": "stream",
     "text": [
      "     similarity                                                title\n",
      "2      0.205319                              AI in the Age of Reason\n",
      "61     0.160961     Concepts, Analogies, Common Sense & Future of AI\n",
      "119    0.149631                             Measures of Intelligence\n",
      "38     0.142291         Keras, Deep Learning, and the Progress of AI\n",
      "295    0.136549  IQ Tests, Human Intelligence, and Group Differences\n",
      "12     0.132376                          Brains, Minds, and Machines\n",
      "91     0.101213  Square, Cryptocurrency, and Artificial Intelligence\n",
      "0      0.101050                                             Life 3.0\n",
      "1      0.096279                                        Consciousness\n",
      "75     0.093354     Universal Artificial Intelligence, AIXI, and AGI\n"
     ]
    }
   ],
   "execution_count": 60
  },
  {
   "metadata": {},
   "cell_type": "markdown",
   "source": "#### Top Results BERT",
   "id": "679cdc668620dd0a"
  },
  {
   "metadata": {
    "ExecuteTime": {
     "end_time": "2024-08-04T08:04:53.016407Z",
     "start_time": "2024-08-04T08:04:52.695161Z"
    }
   },
   "cell_type": "code",
   "source": [
    "bert_results_df = retrieve_bert([\"Artificial Intelligence\"])\n",
    "\n",
    "sorted_bert_df = sort_by_similarity(bert_results_df)\n",
    "print(sorted_bert_df[:10])"
   ],
   "id": "bfbf8b16f2afbf08",
   "outputs": [
    {
     "name": "stdout",
     "output_type": "stream",
     "text": [
      "     similarity                                                        title\n",
      "199    0.747838                                  Totalitarianism and Anarchy\n",
      "295    0.744217          IQ Tests, Human Intelligence, and Group Differences\n",
      "292    0.735387                                                     DeepMind\n",
      "273    0.735202                  Bitcoin, Inflation, and the Future of Money\n",
      "165    0.734717      Deep Work, Focus, Productivity, Email, and Social Media\n",
      "216    0.732198  Virtual Reality, Social Media & the Future of Humans and AI\n",
      "133    0.731452           On the Nature of Good and Evil, Genius and Madness\n",
      "210    0.728670                 Nature of Reality, Dreams, and Consciousness\n",
      "306    0.727041                        Life, Death, Power, Fame, and Meaning\n",
      "12     0.726703                                  Brains, Minds, and Machines\n"
     ]
    }
   ],
   "execution_count": 65
  },
  {
   "metadata": {},
   "cell_type": "markdown",
   "source": [
    "### Step 9: Compare Results\n",
    "\n",
    "Analyze and compare the results obtained from TF-IDF and BERT representations.\n",
    "\n",
    "Discuss the differences, strengths, and weaknesses of each method based on the retrieval results.\n"
   ],
   "id": "39b7dc585233d4b"
  },
  {
   "metadata": {},
   "cell_type": "markdown",
   "source": [
    "Con\n",
    "este\n",
    "ejercicio\n",
    "pudimos\n",
    "observar\n",
    "que\n",
    "el\n",
    "método\n",
    "TF - IDF\n",
    "recupera\n",
    "mejores\n",
    "resultados\n",
    "que\n",
    "el\n",
    "método\n",
    "BERT\n",
    "\n",
    "debido\n",
    "a\n",
    "que\n",
    "los\n",
    "textos\n",
    "que\n",
    "se\n",
    "recuperan\n",
    "a\n",
    "través\n",
    "de\n",
    "TF - IDF\n",
    "tienen\n",
    "más\n",
    "relación\n",
    "con\n",
    "la\n",
    "query ingresada"
   ],
   "id": "67cfee656cb367b5"
  }
 ],
 "metadata": {
  "kernelspec": {
   "display_name": "Python 3",
   "language": "python",
   "name": "python3"
  },
  "language_info": {
   "codemirror_mode": {
    "name": "ipython",
    "version": 2
   },
   "file_extension": ".py",
   "mimetype": "text/x-python",
   "name": "python",
   "nbconvert_exporter": "python",
   "pygments_lexer": "ipython2",
   "version": "2.7.6"
  }
 },
 "nbformat": 4,
 "nbformat_minor": 5
}
